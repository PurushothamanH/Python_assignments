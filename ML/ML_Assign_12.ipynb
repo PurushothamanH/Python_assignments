{
 "cells": [
  {
   "cell_type": "code",
   "execution_count": null,
   "id": "9c46e6c1",
   "metadata": {},
   "outputs": [],
   "source": [
    "1. Prior Probability\n",
    "Definition: Prior probability represents the initial probability of an event before any new evidence is considered.\n",
    "Example: If 5% of all emails are known to be spam, the prior probability of any randomly selected email being spam is 0.05.\n",
    "\n",
    "2. Posterior Probability\n",
    "Definition: Posterior probability is the probability of an event after taking new evidence into account, updated using Bayes' theorem.\n",
    "Example: If an email contains certain keywords often associated with spam, the posterior probability of that email being spam increases, based on this new evidence.\n",
    "\n",
    "3. Likelihood Probability\n",
    "Definition: Likelihood probability represents the probability of observing specific evidence given that a particular event has occurred.\n",
    "Example: In the context of spam emails, if we know an email is spam, the likelihood might measure how probable it is that the email contains common spam keywords.\n",
    "\n",
    "4. Naïve Bayes Classifier\n",
    "Definition: Naïve Bayes is a probabilistic classifier that applies Bayes' theorem with the assumption that all features are independent of each other given the class label.\n",
    "Why it's named \"Naïve\": It’s termed “naïve” because it assumes conditional independence between features, which is often an oversimplification in real-world data.\n",
    "\n",
    "5. Optimal Bayes Classifier\n",
    "Definition: The optimal Bayes classifier is a theoretical model that provides the highest possible prediction accuracy by minimizing the probability of misclassification. It assigns class labels based on maximizing the posterior probability.\n",
    "\n",
    "6. Features of Bayesian Learning Methods\n",
    "Feature 1: Bayesian methods calculate the probability of a hypothesis, providing a probabilistic interpretation of predictions.\n",
    "Feature 2: Bayesian learning methods can update probabilities as new data becomes available, making them adaptive.\n",
    "\n",
    "7. Consistent Learners\n",
    "Definition: Consistent learners are algorithms that always produce hypotheses that fit all observed training data without error, given enough data and a compatible hypothesis space.\n",
    "\n",
    "8. Strengths of Bayes Classifier\n",
    "Strength 1: Computational efficiency, as it performs well even with a small amount of data.\n",
    "Strength 2: Good performance on problems with independent features or when independence approximations are reasonable.\n",
    "\n",
    "9. Weaknesses of Bayes Classifier\n",
    "Weakness 1: Assumption of feature independence can lead to inaccurate predictions in cases where features are highly correlated.\n",
    "Weakness 2: The classifier can struggle with small sample sizes for a given class, leading to biased probability estimates.\n",
    "\n",
    "10. Applications of Naïve Bayes Classifier\n",
    "Text Classification: Naïve Bayes is effective for classifying text documents, such as categorizing news articles by topic. It calculates the probability of a text belonging to a category based on the frequency of keywords.\n",
    "Spam Filtering: Naïve Bayes is widely used in email spam detection. The classifier analyzes the probability of an email being spam based on the frequency of certain words or phrases commonly found in spam emails.\n",
    "Market Sentiment Analysis: Naïve Bayes can classify social media posts or reviews as positive or negative sentiment. By using a labeled dataset, the model learns which words are more indicative of positive or negative sentiment and can then classify new text accordingly."
   ]
  }
 ],
 "metadata": {
  "kernelspec": {
   "display_name": "Python 3 (ipykernel)",
   "language": "python",
   "name": "python3"
  },
  "language_info": {
   "codemirror_mode": {
    "name": "ipython",
    "version": 3
   },
   "file_extension": ".py",
   "mimetype": "text/x-python",
   "name": "python",
   "nbconvert_exporter": "python",
   "pygments_lexer": "ipython3",
   "version": "3.10.9"
  }
 },
 "nbformat": 4,
 "nbformat_minor": 5
}

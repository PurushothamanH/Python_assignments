{
 "cells": [
  {
   "cell_type": "code",
   "execution_count": 1,
   "id": "94489d72",
   "metadata": {},
   "outputs": [],
   "source": [
    "1. Key Tasks in Machine Learning & Data Pre-Processing\n",
    "Key Tasks: Include data collection, data preprocessing, feature engineering, model selection, training, evaluation, and deployment.\n",
    "Data Pre-Processing: Involves cleaning, transforming, and encoding data to make it suitable for machine learning. This includes handling missing values, normalizing features, and encoding categorical variables."
   ]
  },
  {
   "cell_type": "code",
   "execution_count": null,
   "id": "7abd24b9",
   "metadata": {},
   "outputs": [],
   "source": [
    "2. Quantitative vs. Qualitative Data\n",
    "Quantitative Data: Numerical data that quantifies attributes (e.g., height, age, salary). It allows for mathematical calculations.\n",
    "Qualitative Data: Categorical data that describes attributes in non-numeric terms (e.g., color, brand, type). It categorizes attributes but doesn’t measure them.\n",
    "Distinction:\n",
    "\n",
    "Quantitative data is measured and analyzed numerically (e.g., test scores), while qualitative data is described and categorized without inherent numeric value (e.g., survey responses)."
   ]
  },
  {
   "cell_type": "code",
   "execution_count": 4,
   "id": "fbb40ac9",
   "metadata": {},
   "outputs": [
    {
     "name": "stdout",
     "output_type": "stream",
     "text": [
      "Requirement already satisfied: numpy in c:\\users\\purushoth\\anaconda3\\anaconda\\lib\\site-packages (2.0.2)\n",
      "Collecting numpy\n",
      "  Downloading numpy-2.1.2-cp310-cp310-win_amd64.whl (12.9 MB)\n",
      "     ---------------------------------------- 12.9/12.9 MB 3.2 MB/s eta 0:00:00\n",
      "Requirement already satisfied: pandas in c:\\users\\purushoth\\anaconda3\\anaconda\\lib\\site-packages (1.5.3)\n",
      "Collecting pandas\n",
      "  Downloading pandas-2.2.3-cp310-cp310-win_amd64.whl (11.6 MB)\n",
      "     ---------------------------------------- 11.6/11.6 MB 1.5 MB/s eta 0:00:00\n",
      "Requirement already satisfied: python-dateutil>=2.8.2 in c:\\users\\purushoth\\anaconda3\\anaconda\\lib\\site-packages (from pandas) (2.8.2)\n",
      "Collecting tzdata>=2022.7\n",
      "  Using cached tzdata-2024.2-py2.py3-none-any.whl (346 kB)\n",
      "Requirement already satisfied: pytz>=2020.1 in c:\\users\\purushoth\\anaconda3\\anaconda\\lib\\site-packages (from pandas) (2022.7)\n",
      "Requirement already satisfied: six>=1.5 in c:\\users\\purushoth\\anaconda3\\anaconda\\lib\\site-packages (from python-dateutil>=2.8.2->pandas) (1.16.0)\n",
      "Installing collected packages: tzdata, numpy, pandas\n",
      "  Attempting uninstall: numpy\n",
      "    Found existing installation: numpy 2.0.2\n",
      "    Uninstalling numpy-2.0.2:\n",
      "      Successfully uninstalled numpy-2.0.2\n",
      "Note: you may need to restart the kernel to use updated packages.\n"
     ]
    },
    {
     "name": "stderr",
     "output_type": "stream",
     "text": [
      "WARNING: Ignoring invalid distribution -ensorflow-intel (c:\\users\\purushoth\\anaconda3\\anaconda\\lib\\site-packages)\n",
      "WARNING: Ignoring invalid distribution -ensorflow-intel (c:\\users\\purushoth\\anaconda3\\anaconda\\lib\\site-packages)\n",
      "WARNING: Ignoring invalid distribution -ensorflow-intel (c:\\users\\purushoth\\anaconda3\\anaconda\\lib\\site-packages)\n",
      "    WARNING: Ignoring invalid distribution -ensorflow-intel (c:\\users\\purushoth\\anaconda3\\anaconda\\lib\\site-packages)\n",
      "ERROR: Could not install packages due to an OSError: [WinError 5] Access is denied: 'C:\\\\Users\\\\Purushoth\\\\anaconda3\\\\anaconda\\\\Lib\\\\site-packages\\\\~umpy.libs\\\\libscipy_openblas64_-caad452230ae4ddb57899b8b3a33c55c.dll'\n",
      "Consider using the `--user` option or check the permissions.\n",
      "\n",
      "WARNING: Ignoring invalid distribution -ensorflow-intel (c:\\users\\purushoth\\anaconda3\\anaconda\\lib\\site-packages)\n",
      "WARNING: Ignoring invalid distribution -ensorflow-intel (c:\\users\\purushoth\\anaconda3\\anaconda\\lib\\site-packages)\n",
      "WARNING: Ignoring invalid distribution -ensorflow-intel (c:\\users\\purushoth\\anaconda3\\anaconda\\lib\\site-packages)\n"
     ]
    }
   ],
   "source": [
    "pip install --upgrade numpy pandas"
   ]
  },
  {
   "cell_type": "code",
   "execution_count": null,
   "id": "86166fdc",
   "metadata": {},
   "outputs": [],
   "source": [
    "import pandas as pd\n",
    "import numpy as np\n",
    "# Creating a sample dataset with various data types\n",
    "data = {\n",
    "    \"Customer_ID\": [101, 102, 103, 104],\n",
    "    \"Age\": [25, 30, 22, 28],                     # Numerical\n",
    "    \"Gender\": [\"Female\", \"Male\", \"Female\", \"Male\"],  # Categorical\n",
    "    \"Purchase_Amount\": [120.50, 250.75, 320.00, 85.20],  # Numerical\n",
    "    \"Date_of_Purchase\": pd.to_datetime([\"2024-10-01\", \"2024-10-02\", \"2024-10-05\", \"2024-10-07\"]),  # Time-Series\n",
    "    \"Product_Review\": [\"Great product!\", \"Very durable\", \"Highly recommended\", \"Good quality\"]  # Text\n",
    "}\n",
    "\n",
    "# Creating a DataFrame\n",
    "df = pd.DataFrame(data)\n",
    "\n",
    "# Displaying the DataFrame\n",
    "print(df)\n"
   ]
  },
  {
   "cell_type": "code",
   "execution_count": null,
   "id": "98c093df",
   "metadata": {},
   "outputs": [],
   "source": [
    "4. Causes and Ramifications of Machine Learning Data Issues\n",
    "Causes: Missing values, outliers, biased sampling, noisy data, and high dimensionality.\n",
    "Ramifications: Data issues can lead to inaccurate models, biased predictions, and lower performance."
   ]
  },
  {
   "cell_type": "code",
   "execution_count": null,
   "id": "4036db88",
   "metadata": {},
   "outputs": [],
   "source": [
    "5. Approaches to Categorical Data Exploration\n",
    "Frequency Tables: Display counts for each category (e.g., number of customers by gender).\n",
    "Bar Plots: Visualize frequencies of categorical variables (e.g., products sold by category).\n",
    "Cross-Tabs: Examine relationships between two categorical variables (e.g., customer segments by region)."
   ]
  },
  {
   "cell_type": "code",
   "execution_count": null,
   "id": "9c48a7a0",
   "metadata": {},
   "outputs": [],
   "source": [
    "6. Impact of Missing Values on Learning & Handling Them\n",
    "Impact: Missing values can distort patterns, reduce model accuracy, and hinder learning.\n",
    "Solutions:\n",
    "Imputation: Fill missing values with mean, median, or mode.\n",
    "Removal: Drop rows/columns with missing values.\n",
    "Prediction: Use algorithms to predict missing values based on other features."
   ]
  },
  {
   "cell_type": "code",
   "execution_count": null,
   "id": "df99ae35",
   "metadata": {},
   "outputs": [],
   "source": [
    "7. Methods for Handling Missing Data\n",
    "Mean/Median Imputation: Replace missing values with mean or median of the feature.\n",
    "K-Nearest Neighbors (KNN): Use neighboring data points to impute missing values.\n",
    "Dropping Missing Data: Remove rows or columns with significant missing values.\n",
    "Multiple Imputation: Replace missing values by creating multiple imputations for each missing entry."
   ]
  },
  {
   "cell_type": "code",
   "execution_count": null,
   "id": "84d9c2a7",
   "metadata": {},
   "outputs": [],
   "source": [
    "8. Data Pre-Processing Techniques\n",
    "Standardization: Scaling features to a common scale.\n",
    "Encoding: Transforming categorical data into numeric (e.g., one-hot encoding).\n",
    "Dimensionality Reduction: Reducing the feature space to avoid overfitting.\n",
    "Feature Selection: Choosing the most relevant features to improve model performance."
   ]
  },
  {
   "cell_type": "code",
   "execution_count": null,
   "id": "f4699592",
   "metadata": {},
   "outputs": [],
   "source": [
    "9. Interquartile Range (IQR) and Box Plot\n",
    "IQR: Measures the range within the middle 50% of data. It is calculated as the difference between the 75th percentile (Q3) and 25th percentile (Q1).\n",
    "Box Plot Components:\n",
    "Median (Q2): Middle value of the dataset.\n",
    "Quartiles (Q1, Q3): 25th and 75th percentiles.\n",
    "Whiskers: Extend to the smallest and largest values within 1.5 * IQR from Q1 and Q3.\n",
    "Outliers: Points outside the whiskers indicate outliers.\n",
    "Whisker Length: Lower whisker can be longer if data is skewed towards lower values."
   ]
  },
  {
   "cell_type": "code",
   "execution_count": null,
   "id": "c9085f73",
   "metadata": {},
   "outputs": [],
   "source": [
    "10. Brief Notes on Two Concepts\n",
    "Data Collected at Regular Intervals: Typically time-series data used in forecasting (e.g., monthly sales).\n",
    "Cross-Tabs: Table displaying the frequency or relationship between two categorical variables (e.g., age group vs. product purchased)."
   ]
  },
  {
   "cell_type": "code",
   "execution_count": null,
   "id": "3fd02866",
   "metadata": {},
   "outputs": [],
   "source": [
    "11. Comparisons\n",
    "Nominal vs. Ordinal Values:\n",
    "Nominal: Categories without inherent order (e.g., color).\n",
    "Ordinal: Ordered categories (e.g., rating levels like low, medium, high).\n",
    "Histogram vs. Box Plot:\n",
    "Histogram: Shows data distribution across intervals.\n",
    "Box Plot: Summarizes data distribution through quartiles and highlights outliers.\n",
    "Mean vs. Median:\n",
    "Mean: Average of all values.\n",
    "Median: Middle value in sorted data."
   ]
  }
 ],
 "metadata": {
  "kernelspec": {
   "display_name": "Python 3 (ipykernel)",
   "language": "python",
   "name": "python3"
  },
  "language_info": {
   "codemirror_mode": {
    "name": "ipython",
    "version": 3
   },
   "file_extension": ".py",
   "mimetype": "text/x-python",
   "name": "python",
   "nbconvert_exporter": "python",
   "pygments_lexer": "ipython3",
   "version": "3.10.9"
  }
 },
 "nbformat": 4,
 "nbformat_minor": 5
}

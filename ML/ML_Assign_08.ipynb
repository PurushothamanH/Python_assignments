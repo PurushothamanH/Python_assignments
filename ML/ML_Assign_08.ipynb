{
 "cells": [
  {
   "cell_type": "code",
   "execution_count": null,
   "id": "50ddf9e9",
   "metadata": {},
   "outputs": [],
   "source": [
    "1. Definition of a Feature\n",
    "Feature: In machine learning, a feature is an individual measurable property or characteristic of a phenomenon being observed. Features are used as input variables in models.\n",
    "Example: In a dataset predicting house prices, features could include the square footage, number of bedrooms, or neighborhood of each house.\n",
    "\n",
    "2. Circumstances for Feature Construction\n",
    "Feature construction is required in cases where:\n",
    "Existing features are insufficient or uninformative for predictive modeling.\n",
    "New, more meaningful features can be derived by combining or transforming existing ones.\n",
    "Data needs normalization or standardization to improve model performance.\n",
    "Complex relationships need to be simplified, such as converting dates to time since a specific event.\n",
    "\n",
    "3. Encoding Nominal Variables\n",
    "Nominal variables, which represent categories without intrinsic ordering, are commonly encoded using:\n",
    "One-Hot Encoding: Converts each category into a binary column.\n",
    "Label Encoding: Assigns a unique integer to each category, though this may introduce a false ordinal relationship.\n",
    "\n",
    "4. Converting Numeric Features to Categorical\n",
    "To convert numeric features to categorical features:\n",
    "Binning/Discretization: Splits continuous values into intervals or \"bins.\"\n",
    "Example: Age as a continuous feature can be grouped into bins like “0-18,” “19-35,” etc.\n",
    "Domain-Specific Grouping: Defined ranges based on business logic or domain knowledge.\n",
    "\n",
    "5. Feature Selection Wrapper Approach\n",
    "Definition: The wrapper approach evaluates feature subsets by training and validating a model using those features to assess their predictive power.\n",
    "Advantages: Considers interactions between features, often leading to higher accuracy.\n",
    "Disadvantages: Computationally expensive and time-consuming, especially on large datasets.\n",
    "\n",
    "6. Irrelevant Features\n",
    "A feature is considered irrelevant if it does not provide useful information for the model’s prediction. Irrelevance can be quantified using:\n",
    "Low Correlation with Target: Little to no statistical correlation with the outcome variable.\n",
    "Statistical Tests: Tests like chi-square or ANOVA can determine irrelevance for categorical or numeric features, respectively.\n",
    "\n",
    "7. Redundant Features\n",
    "A feature is redundant if it provides duplicate or highly similar information to another feature. Redundancy is identified through:\n",
    "High Correlation with Other Features: Pearson’s correlation for continuous variables or mutual information for categorical data can highlight redundancy.\n",
    "Feature Importance Analysis: Techniques like feature importance scores or principal component analysis (PCA) can reveal redundant features.\n",
    "\n",
    "8. Distance Measurements for Feature Similarity\n",
    "Common distance measurements include:\n",
    "Euclidean Distance: Measures the straight-line distance between points.\n",
    "Manhattan Distance: Measures distance as the sum of absolute differences.\n",
    "Cosine Similarity: Measures the cosine of the angle between vectors, often used in text data.\n",
    "\n",
    "9. Euclidean vs. Manhattan Distances\n",
    "Euclidean Distance: Measures straight-line distance between two points in a multidimensional space. It’s sensitive to outliers and considers all feature values.\n",
    "Manhattan Distance: Measures distance as the sum of absolute differences between points. It is less sensitive to outliers and often used in high-dimensional datasets.\n",
    "\n",
    "10. Feature Transformation vs. Feature Selection\n",
    "Feature Transformation: Changes the feature space by creating new features or scaling existing ones, such as using PCA.\n",
    "Feature Selection: Involves selecting the most important features for the model, removing irrelevant or redundant ones without altering the feature space.\n",
    "\n",
    "11. Brief Notes on Selected Concepts\n",
    "Hybrid Approach for Feature Collection: This approach combines multiple methods, such as filter, wrapper, and embedded techniques, to select features, aiming to balance computational efficiency with accuracy.\n",
    "Receiver Operating Characteristic (ROC) Curve: An ROC curve is a graphical plot illustrating a classification model’s performance across different thresholds. It plots the true positive rate against the false positive rate, helping evaluate the trade-off between sensitivity and specificity. The area under the ROC curve (AUC) quantifies the model's ability to distinguish between classes."
   ]
  }
 ],
 "metadata": {
  "kernelspec": {
   "display_name": "Python 3 (ipykernel)",
   "language": "python",
   "name": "python3"
  },
  "language_info": {
   "codemirror_mode": {
    "name": "ipython",
    "version": 3
   },
   "file_extension": ".py",
   "mimetype": "text/x-python",
   "name": "python",
   "nbconvert_exporter": "python",
   "pygments_lexer": "ipython3",
   "version": "3.10.9"
  }
 },
 "nbformat": 4,
 "nbformat_minor": 5
}

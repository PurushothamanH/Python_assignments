{
 "cells": [
  {
   "cell_type": "code",
   "execution_count": null,
   "id": "1d599afb",
   "metadata": {},
   "outputs": [],
   "source": [
    "# 1. Key Tasks in Preparing for Machine Learning Modeling\n",
    "# Data Collection\n",
    "# Data Cleaning\n",
    "# Feature Engineering\n",
    "# Data Splitting\n",
    "# Model Selection\n",
    "    \n",
    "# 2. Different Forms of Data in Machine Learning\n",
    "# Numerical Data\n",
    "# Categorical Data\n",
    "# Text Data\n",
    "# Time-Series Data\n",
    "# Image Data\n",
    "\n",
    "# 3. Distinguishing Key Concepts\n",
    "# Numeric vs. Categorical Attributes:\n",
    "# Numeric Attributes: Quantitative values (e.g., height, weight).\n",
    "# Categorical Attributes: Qualitative categories or labels (e.g., color, brand).\n",
    "\n",
    "# Feature Selection vs. Dimensionality Reduction:\n",
    "# Feature Selection: Choosing the most relevant features, removing irrelevant ones.\n",
    "# Dimensionality Reduction: Reducing data dimensions by transforming or combining features (e.g., Principal Component Analysis, or PCA).\n",
    "\n",
    "# 4. Quick Notes\n",
    "# Histogram: A graphical representation of data distribution, where data is grouped into bins representing frequency.\n",
    "# Scatter Plot: A plot with points representing values of two variables, used to observe relationships, trends, and outliers.\n",
    "\n",
    "# 5. Importance of Data Exploration and Differences in Qualitative vs. Quantitative Data Analysis\n",
    "# Data exploration helps in understanding data structure, patterns, and potential problems. Quantitative data exploration involves statistical measures and graphs, while qualitative data often requires categorization and thematic analysis.\n",
    "\n",
    "# 6. Histogram Shapes and Bins\n",
    "# Histogram Shapes: Common shapes include normal, skewed, bimodal, and uniform distributions.\n",
    "# Bins: Intervals in histograms that represent ranges of data values; the height of each bin indicates the frequency.\n",
    "\n",
    "# 7. Handling Data Outliers\n",
    "# Outlier Removal: Eliminate extreme values if they distort analysis.\n",
    "# Transformation: Use transformations like log or square root to reduce outlier impact.\n",
    "# Capping or Flooring: Set outliers to a specific percentile.\n",
    "\n",
    "# 8. Central Tendency Measures and Mean-Variance\n",
    "# Measures: Mean, median, and mode are the main measures.\n",
    "# Variance Between Mean and Median: Outliers or skewed data can cause the mean to deviate significantly from the median, affecting its accuracy as a central tendency measure.\n",
    "\n",
    "# 9. Using a Scatter Plot to Analyze Bivariate Relationships\n",
    "# Scatter plots display relationships between two variables by plotting one on the x-axis and the other on the y-axis. Trends, correlations, and outliers are often identifiable from the clustering and spread of points.\n",
    "\n",
    "# 10. Using Cross-Tabs to Investigate Variable Relationships\n",
    "# Cross-tabulation (cross-tab) is a matrix that displays the frequency of one variable concerning another, often revealing potential associations between categorical variables (e.g., customer segment by product type)."
   ]
  }
 ],
 "metadata": {
  "kernelspec": {
   "display_name": "Python 3 (ipykernel)",
   "language": "python",
   "name": "python3"
  },
  "language_info": {
   "codemirror_mode": {
    "name": "ipython",
    "version": 3
   },
   "file_extension": ".py",
   "mimetype": "text/x-python",
   "name": "python",
   "nbconvert_exporter": "python",
   "pygments_lexer": "ipython3",
   "version": "3.10.9"
  }
 },
 "nbformat": 4,
 "nbformat_minor": 5
}

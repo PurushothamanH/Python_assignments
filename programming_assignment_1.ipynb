{
 "cells": [
  {
   "cell_type": "code",
   "execution_count": 1,
   "id": "a005e6e5",
   "metadata": {},
   "outputs": [
    {
     "name": "stdout",
     "output_type": "stream",
     "text": [
      "Hello Python\n"
     ]
    }
   ],
   "source": [
    "a = \"Hello Python\"\n",
    "print(a)"
   ]
  },
  {
   "cell_type": "code",
   "execution_count": 3,
   "id": "9aabe49b",
   "metadata": {},
   "outputs": [
    {
     "name": "stdout",
     "output_type": "stream",
     "text": [
      "25\n",
      "5\n",
      "Addition: 30\n",
      "Division: 5.0\n"
     ]
    }
   ],
   "source": [
    "num = int(input())\n",
    "num1 = int(input())\n",
    "print(\"Addition:\",num+num1)\n",
    "print(\"Division:\",num/num1)"
   ]
  },
  {
   "cell_type": "code",
   "execution_count": 5,
   "id": "a7b3e693",
   "metadata": {},
   "outputs": [
    {
     "name": "stdout",
     "output_type": "stream",
     "text": [
      "5\n",
      "2\n",
      "Area of Triangle : 5.0\n"
     ]
    }
   ],
   "source": [
    "breath = int(input())\n",
    "height= int(input())\n",
    "area = 1/2*breath*height\n",
    "print(\"Area of Triangle :\",area)"
   ]
  },
  {
   "cell_type": "code",
   "execution_count": 6,
   "id": "02e0251a",
   "metadata": {},
   "outputs": [
    {
     "name": "stdout",
     "output_type": "stream",
     "text": [
      "first_variable : s\n",
      "second_variable : v\n"
     ]
    }
   ],
   "source": [
    "first_variable = \"v\"\n",
    "second_variable = \"s\"\n",
    "third_variable = first_variable\n",
    "first_variable = second_variable\n",
    "second_variable = third_variable\n",
    "print(\"first_variable :\",first_variable)\n",
    "print(\"second_variable :\",second_variable)"
   ]
  },
  {
   "cell_type": "code",
   "execution_count": 11,
   "id": "0a4e874b",
   "metadata": {},
   "outputs": [
    {
     "name": "stdout",
     "output_type": "stream",
     "text": [
      "5\n",
      "21\n",
      "Random Number : 13\n"
     ]
    }
   ],
   "source": [
    "import random\n",
    "a = int(input())\n",
    "b = int(input())\n",
    "print(\"Random Number :\",random.randint(a,b))"
   ]
  },
  {
   "cell_type": "code",
   "execution_count": null,
   "id": "590a5532",
   "metadata": {},
   "outputs": [],
   "source": []
  }
 ],
 "metadata": {
  "kernelspec": {
   "display_name": "Python 3 (ipykernel)",
   "language": "python",
   "name": "python3"
  },
  "language_info": {
   "codemirror_mode": {
    "name": "ipython",
    "version": 3
   },
   "file_extension": ".py",
   "mimetype": "text/x-python",
   "name": "python",
   "nbconvert_exporter": "python",
   "pygments_lexer": "ipython3",
   "version": "3.10.5"
  }
 },
 "nbformat": 4,
 "nbformat_minor": 5
}

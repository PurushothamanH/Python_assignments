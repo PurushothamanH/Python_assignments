{
 "cells": [
  {
   "cell_type": "code",
   "execution_count": null,
   "id": "1aa436c8",
   "metadata": {},
   "outputs": [],
   "source": [
    "X = [[1,2,3],\n",
    "\t[4 ,5,6],\n",
    "\t[7 ,8,9]]\n",
    "\n",
    "Y = [[9,8,7],\n",
    "\t[6,5,4],\n",
    "\t[3,2,1]]\n",
    "\n",
    "result = [[X[i][j] + Y[i][j] for j in range(len(X[0]))] for i in range(len(X))]\n",
    "\n",
    "for r in result:\n",
    "\tprint(r)\n"
   ]
  },
  {
   "cell_type": "code",
   "execution_count": null,
   "id": "423fce95",
   "metadata": {},
   "outputs": [],
   "source": [
    "X = [[1,2,3],\n",
    "\t[4 ,5,6],\n",
    "\t[7 ,8,9]]\n",
    "\n",
    "Y = [[9,8,7],\n",
    "\t[6,5,4],\n",
    "\t[3,2,1]]\n",
    "\n",
    "result = [[X[i][j] * Y[i][j] for j in range(len(X[0]))] for i in range(len(X))]\n",
    "\n",
    "for r in result:\n",
    "\tprint(r)\n"
   ]
  },
  {
   "cell_type": "code",
   "execution_count": null,
   "id": "e68e6364",
   "metadata": {},
   "outputs": [],
   "source": [
    "matrix = [[1, 1, 1, 1],\n",
    "\t\t[2, 2, 2, 2],\n",
    "\t\t[3, 3, 3, 3],\n",
    "\t\t[4, 4, 4, 4]]\n",
    "\n",
    "transpose = [list(row) for row in zip(*matrix)]\n",
    "\n",
    "print(\"Original Matrix:\")\n",
    "for row in matrix:\n",
    "\tprint(row)\n",
    "\n",
    "print(\"Transposed Matrix:\")\n",
    "for row in transpose:\n",
    "\tprint(row)\n"
   ]
  },
  {
   "cell_type": "code",
   "execution_count": null,
   "id": "0f633f54",
   "metadata": {},
   "outputs": [],
   "source": [
    "def F(S):\n",
    "\tW = S.split(\" \")\n",
    "\tfor i in range(len(W)):\n",
    "\t\tW[i] = W[i].lower()\n",
    "\tW.sort()\n",
    "\treturn ' '.join(W)\n",
    "\n",
    "# Driver code\n",
    "S = \"GeekS for geEks\"\n",
    "print(F(S))"
   ]
  },
  {
   "cell_type": "code",
   "execution_count": null,
   "id": "46353281",
   "metadata": {},
   "outputs": [],
   "source": [
    "def remove_punctuation(input_string):\n",
    "    punctuation_marks = '''!\"#$%&'()*+,-./:;<=>?@[\\]^_`{|}~'''\n",
    "    translation_table = str.maketrans('', '', punctuation_marks)\n",
    "    clean_string = input_string.translate(translation_table)\n",
    "    return clean_string\n",
    "\n",
    "def main():\n",
    "    try:\n",
    "        input_string = input(\"Enter a string with punctuation marks: \")\n",
    "        cleaned_string = remove_punctuation(input_string)\n",
    "        print(\"String without punctuation marks:\", cleaned_string)\n",
    "    except ValueError:\n",
    "        print(\"Error processing the input string.\")\n",
    "\n",
    "if __name__ == \"__main__\":\n",
    "    main()"
   ]
  },
  {
   "cell_type": "code",
   "execution_count": null,
   "id": "9ac792cb",
   "metadata": {},
   "outputs": [],
   "source": []
  },
  {
   "cell_type": "code",
   "execution_count": null,
   "id": "0b2afa2e",
   "metadata": {},
   "outputs": [],
   "source": []
  },
  {
   "cell_type": "code",
   "execution_count": null,
   "id": "df2b50b5",
   "metadata": {},
   "outputs": [],
   "source": []
  },
  {
   "cell_type": "code",
   "execution_count": null,
   "id": "83a3c92b",
   "metadata": {},
   "outputs": [],
   "source": []
  },
  {
   "cell_type": "code",
   "execution_count": null,
   "id": "b6c0df86",
   "metadata": {},
   "outputs": [],
   "source": []
  },
  {
   "cell_type": "code",
   "execution_count": null,
   "id": "774c12cb",
   "metadata": {},
   "outputs": [],
   "source": []
  }
 ],
 "metadata": {
  "kernelspec": {
   "display_name": "Python 3 (ipykernel)",
   "language": "python",
   "name": "python3"
  },
  "language_info": {
   "codemirror_mode": {
    "name": "ipython",
    "version": 3
   },
   "file_extension": ".py",
   "mimetype": "text/x-python",
   "name": "python",
   "nbconvert_exporter": "python",
   "pygments_lexer": "ipython3",
   "version": "3.10.9"
  }
 },
 "nbformat": 4,
 "nbformat_minor": 5
}

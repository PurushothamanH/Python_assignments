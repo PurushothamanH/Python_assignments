{
 "cells": [
  {
   "cell_type": "code",
   "execution_count": 1,
   "id": "8114d8dd",
   "metadata": {},
   "outputs": [],
   "source": [
    "def gcd(a, b):\n",
    "    while b:\n",
    "        a, b = b, a % b\n",
    "    return a\n",
    "def lcm(a, b):\n",
    "    return (a * b) // gcd(a, b)\n",
    "def main():\n",
    "    try:\n",
    "        num1 = int(input(\"Enter first number: \"))\n",
    "        num2 = int(input(\"Enter second number: \"))\n",
    "        \n",
    "        result = lcm(num1, num2)\n",
    "        print(\"LCM of\", num1, \"and\", num2, \"is:\", result)\n",
    "    except ValueError:\n",
    "        print(\"Please enter valid integers.\")"
   ]
  },
  {
   "cell_type": "code",
   "execution_count": 3,
   "id": "0e819263",
   "metadata": {},
   "outputs": [
    {
     "data": {
      "text/plain": [
       "420"
      ]
     },
     "execution_count": 3,
     "metadata": {},
     "output_type": "execute_result"
    }
   ],
   "source": [
    "lcm(60,14)"
   ]
  },
  {
   "cell_type": "code",
   "execution_count": 4,
   "id": "373ed655",
   "metadata": {},
   "outputs": [
    {
     "data": {
      "text/plain": [
       "2"
      ]
     },
     "execution_count": 4,
     "metadata": {},
     "output_type": "execute_result"
    }
   ],
   "source": [
    "gcd(60,14)"
   ]
  },
  {
   "cell_type": "code",
   "execution_count": 5,
   "id": "3259a092",
   "metadata": {},
   "outputs": [],
   "source": [
    "def decimal_to_binary(decimal):\n",
    "    return bin(decimal)\n",
    "\n",
    "def decimal_to_octal(decimal):\n",
    "    return oct(decimal)\n",
    "\n",
    "def decimal_to_hexadecimal(decimal):\n",
    "    return hex(decimal)\n",
    "\n",
    "def main():\n",
    "    try:\n",
    "        decimal = int(input(\"Enter a decimal number: \"))\n",
    "        \n",
    "        binary = decimal_to_binary(decimal)\n",
    "        octal = decimal_to_octal(decimal)\n",
    "        hexadecimal = decimal_to_hexadecimal(decimal)\n",
    "        \n",
    "        print(\"Decimal:\", decimal)\n",
    "        print(\"Binary:\", binary)\n",
    "        print(\"Octal:\", octal)\n",
    "        print(\"Hexadecimal:\", hexadecimal)\n",
    "    except ValueError:\n",
    "        print(\"Please enter a valid decimal number.\")"
   ]
  },
  {
   "cell_type": "code",
   "execution_count": 6,
   "id": "1eab0d76",
   "metadata": {},
   "outputs": [
    {
     "data": {
      "text/plain": [
       "'0o14'"
      ]
     },
     "execution_count": 6,
     "metadata": {},
     "output_type": "execute_result"
    }
   ],
   "source": [
    "decimal_to_octal(12)"
   ]
  },
  {
   "cell_type": "code",
   "execution_count": 7,
   "id": "4f789cb5",
   "metadata": {},
   "outputs": [],
   "source": [
    "def ascii_value(character):\n",
    "    return ord(character)\n",
    "def main():\n",
    "    try:\n",
    "        char = input(\"Enter a character: \")\n",
    "        if len(char) != 1:\n",
    "            print(\"Please enter only one character.\")\n",
    "            return\n",
    "        ascii_val = ascii_value(char)\n",
    "        print(\"ASCII value of\", char, \"is:\", ascii_val)\n",
    "    except ValueError:\n",
    "        print(\"Please enter a valid character.\")"
   ]
  },
  {
   "cell_type": "code",
   "execution_count": 17,
   "id": "4727df0b",
   "metadata": {},
   "outputs": [],
   "source": [
    "def add(x, y):\n",
    "    return x + y\n",
    "\n",
    "def subtract(x, y):\n",
    "    return x - y\n",
    "\n",
    "def multiply(x, y):\n",
    "    return x * y\n",
    "\n",
    "def divide(x, y):\n",
    "    if y == 0:\n",
    "        return \"Error! Division by zero is not allowed.\"\n",
    "    else:\n",
    "        return x / y\n",
    "\n",
    "def main():\n",
    "    print(\"Select operation:\")\n",
    "    print(\"1. Add\")\n",
    "    print(\"2. Subtract\")\n",
    "    print(\"3. Multiply\")\n",
    "    print(\"4. Divide\")\n",
    "\n",
    "    choice = int(input(\"Enter choice (1/2/3/4): \"))\n",
    "\n",
    "    if choice in ('1', '2', '3', '4'):\n",
    "        num1 = float(input(\"Enter first number: \"))\n",
    "        num2 = float(input(\"Enter second number: \"))\n",
    "\n",
    "        if choice == '1':\n",
    "            print(\"Result:\", add(num1, num2))\n",
    "        elif choice == '2':\n",
    "            print(\"Result:\", subtract(num1, num2))\n",
    "        elif choice == '3':\n",
    "            print(\"Result:\", multiply(num1, num2))\n",
    "        elif choice == '4':\n",
    "            print(\"Result:\", divide(num1, num2))\n",
    "    else:\n",
    "        print(\"Invalid input\")"
   ]
  },
  {
   "cell_type": "code",
   "execution_count": null,
   "id": "abf33e79",
   "metadata": {},
   "outputs": [],
   "source": []
  },
  {
   "cell_type": "code",
   "execution_count": null,
   "id": "b533a33d",
   "metadata": {},
   "outputs": [],
   "source": []
  }
 ],
 "metadata": {
  "kernelspec": {
   "display_name": "Python 3 (ipykernel)",
   "language": "python",
   "name": "python3"
  },
  "language_info": {
   "codemirror_mode": {
    "name": "ipython",
    "version": 3
   },
   "file_extension": ".py",
   "mimetype": "text/x-python",
   "name": "python",
   "nbconvert_exporter": "python",
   "pygments_lexer": "ipython3",
   "version": "3.10.9"
  }
 },
 "nbformat": 4,
 "nbformat_minor": 5
}

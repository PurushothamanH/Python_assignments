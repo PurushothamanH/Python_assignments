{
 "cells": [
  {
   "cell_type": "code",
   "execution_count": null,
   "id": "9f35ea3d",
   "metadata": {},
   "outputs": [],
   "source": [
    "def double_char(s):\n",
    "    return ''.join(c*2 for c in s)\n",
    "print(double_char(\"String\")) \n",
    "print(double_char(\"Hello World!\"))  \n",
    "print(doubleprint(double_char(\"1234!_ \"))"
   ]
  },
  {
   "cell_type": "code",
   "execution_count": null,
   "id": "614f457b",
   "metadata": {},
   "outputs": [],
   "source": [
    "def reverse(arg):\n",
    "    if isinstance(arg, bool):\n",
    "        return not arg\n",
    "    else:\n",
    "        return \"boolean expected\"\n",
    "print(reverse(True)) \n",
    "print(reverse(False))  \n",
    "print(reverse(0))  \n",
    "print(reverse(None)) "
   ]
  },
  {
   "cell_type": "code",
   "execution_count": null,
   "id": "f96f4018",
   "metadata": {},
   "outputs": [],
   "source": [
    "def num_layers(n):\n",
    "    thickness_mm = 0.5 * 2**n\n",
    "    thickness_m = thickness_mm / 1000\n",
    "    return f\"{thickness_m:.3f}m\"\n",
    "print(num_layers(1)) \n",
    "print(num_layers(4)) \n",
    "print(num_layers(21)) "
   ]
  },
  {
   "cell_type": "code",
   "execution_count": null,
   "id": "49772eff",
   "metadata": {},
   "outputs": [],
   "source": [
    "def index_of_caps(word):\n",
    "    return [i for i, char in enumerate(word) if char.isupper()]\n",
    "print(index_of_caps(\"eDaBiT\"))  \n",
    "print(index_of_caps(\"eQuINoX\"))  \n",
    "print(index_of_caps(\"determine\"))  \n",
    "print(index_of_caps(\"STRIKE\"))  \n",
    "print(index_of_caps(\"sUn\"))"
   ]
  },
  {
   "cell_type": "code",
   "execution_count": null,
   "id": "a459a11c",
   "metadata": {},
   "outputs": [],
   "source": [
    "def find_even_nums(n):\n",
    "    return [num for num in range(1, n+1) if num % 2 == 0]\n",
    "print(find_even_nums(8))  \n",
    "print(find_even_nums(4))  \n",
    "print(find_even_nums(2))  "
   ]
  },
  {
   "cell_type": "code",
   "execution_count": null,
   "id": "61b303f4",
   "metadata": {},
   "outputs": [],
   "source": []
  },
  {
   "cell_type": "code",
   "execution_count": null,
   "id": "7fe89b51",
   "metadata": {},
   "outputs": [],
   "source": []
  },
  {
   "cell_type": "code",
   "execution_count": null,
   "id": "b97beafd",
   "metadata": {},
   "outputs": [],
   "source": []
  },
  {
   "cell_type": "code",
   "execution_count": null,
   "id": "bc667f5c",
   "metadata": {},
   "outputs": [],
   "source": []
  },
  {
   "cell_type": "code",
   "execution_count": null,
   "id": "55161ca0",
   "metadata": {},
   "outputs": [],
   "source": []
  },
  {
   "cell_type": "code",
   "execution_count": null,
   "id": "1d9ea866",
   "metadata": {},
   "outputs": [],
   "source": []
  }
 ],
 "metadata": {
  "kernelspec": {
   "display_name": "Python 3 (ipykernel)",
   "language": "python",
   "name": "python3"
  },
  "language_info": {
   "codemirror_mode": {
    "name": "ipython",
    "version": 3
   },
   "file_extension": ".py",
   "mimetype": "text/x-python",
   "name": "python",
   "nbconvert_exporter": "python",
   "pygments_lexer": "ipython3",
   "version": "3.10.9"
  }
 },
 "nbformat": 4,
 "nbformat_minor": 5
}

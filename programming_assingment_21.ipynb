{
 "cells": [
  {
   "cell_type": "code",
   "execution_count": 6,
   "id": "1903cd67",
   "metadata": {},
   "outputs": [
    {
     "data": {
      "text/plain": [
       "[3, 4, 5, 6, 7, 8]"
      ]
     },
     "execution_count": 6,
     "metadata": {},
     "output_type": "execute_result"
    }
   ],
   "source": [
    "def ls_values(lis,c):\n",
    "    lis.append(c)\n",
    "    lis.pop(0)\n",
    "    return lis\n",
    "ls_values([2,3,4,5,6,7],8)"
   ]
  },
  {
   "cell_type": "code",
   "execution_count": 21,
   "id": "354b5991",
   "metadata": {},
   "outputs": [
    {
     "name": "stdout",
     "output_type": "stream",
     "text": [
      "50000\n"
     ]
    }
   ],
   "source": [
    "dic = [{'Name':'Ram','Age':23,'budget':30000},{'Name':'Sam','Age':21,'budget':20000}]\n",
    "total = 0\n",
    "for key,value in enumerate(dic):\n",
    "    total = total +value['budget']\n",
    "print(total)"
   ]
  },
  {
   "cell_type": "code",
   "execution_count": 22,
   "id": "ae6575e6",
   "metadata": {},
   "outputs": [
    {
     "name": "stdout",
     "output_type": "stream",
     "text": [
      "EEEEHLLNOORVY\n"
     ]
    }
   ],
   "source": [
    "def sortString(str):\n",
    "    return ''.join(sorted(str))\n",
    "     \n",
    "str = 'HELLOEVERYONE'\n",
    "print(sortString(str))"
   ]
  },
  {
   "cell_type": "code",
   "execution_count": 41,
   "id": "5a65c798",
   "metadata": {},
   "outputs": [
    {
     "data": {
      "text/plain": [
       "[1, 2]"
      ]
     },
     "execution_count": 41,
     "metadata": {},
     "output_type": "execute_result"
    }
   ],
   "source": [
    "def filter_list(l):  \n",
    "    output = []\n",
    "    for i in l:  \n",
    "        if type(i) == int:  \n",
    "            output.append(i)  \n",
    "    return output\n",
    "filter_list([1,2,\"volleyball\",\"basketball\"])"
   ]
  },
  {
   "cell_type": "code",
   "execution_count": 43,
   "id": "5da23249",
   "metadata": {},
   "outputs": [
    {
     "name": "stdout",
     "output_type": "stream",
     "text": [
      "18221.098147271583\n"
     ]
    }
   ],
   "source": [
    "P = 10000\n",
    "r = .06\n",
    "n = 3650\n",
    "t = 10\n",
    "def compound(P,r,n,t):\n",
    "    value = P*(pow((1+r/n), n*t))\n",
    "print(value)"
   ]
  },
  {
   "cell_type": "code",
   "execution_count": null,
   "id": "62dee42d",
   "metadata": {},
   "outputs": [],
   "source": []
  }
 ],
 "metadata": {
  "kernelspec": {
   "display_name": "Python 3 (ipykernel)",
   "language": "python",
   "name": "python3"
  },
  "language_info": {
   "codemirror_mode": {
    "name": "ipython",
    "version": 3
   },
   "file_extension": ".py",
   "mimetype": "text/x-python",
   "name": "python",
   "nbconvert_exporter": "python",
   "pygments_lexer": "ipython3",
   "version": "3.10.5"
  }
 },
 "nbformat": 4,
 "nbformat_minor": 5
}

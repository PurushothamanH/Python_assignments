{
 "cells": [
  {
   "cell_type": "code",
   "execution_count": 16,
   "id": "c032dc88",
   "metadata": {},
   "outputs": [],
   "source": [
    "def is_symmetrical_num(n):\n",
    "  return str(n) == str(n)[::-1]"
   ]
  },
  {
   "cell_type": "code",
   "execution_count": 18,
   "id": "57fc990d",
   "metadata": {},
   "outputs": [
    {
     "name": "stdout",
     "output_type": "stream",
     "text": [
      "True\n"
     ]
    }
   ],
   "source": [
    "print(is_symmetrical_num(58685))"
   ]
  },
  {
   "cell_type": "code",
   "execution_count": 19,
   "id": "280e1f09",
   "metadata": {},
   "outputs": [
    {
     "name": "stdout",
     "output_type": "stream",
     "text": [
      "False\n"
     ]
    }
   ],
   "source": [
    "print(is_symmetrical_num(58675))"
   ]
  },
  {
   "cell_type": "code",
   "execution_count": 28,
   "id": "05e58b0b",
   "metadata": {},
   "outputs": [],
   "source": [
    "def funv(lis):\n",
    "    s = lis.split(',')\n",
    "    sum = 1\n",
    "    for i in s:\n",
    "        sum*=int(i)\n",
    "    print(sum)"
   ]
  },
  {
   "cell_type": "code",
   "execution_count": 29,
   "id": "24a5901e",
   "metadata": {},
   "outputs": [
    {
     "name": "stdout",
     "output_type": "stream",
     "text": [
      "120\n"
     ]
    }
   ],
   "source": [
    "funv('2,3,4,5')"
   ]
  },
  {
   "cell_type": "code",
   "execution_count": 30,
   "id": "9705ba30",
   "metadata": {},
   "outputs": [
    {
     "name": "stdout",
     "output_type": "stream",
     "text": [
      "1392\n"
     ]
    }
   ],
   "source": [
    "funv('2,3,4,58')"
   ]
  },
  {
   "cell_type": "code",
   "execution_count": 31,
   "id": "371374bb",
   "metadata": {},
   "outputs": [
    {
     "name": "stdout",
     "output_type": "stream",
     "text": [
      "1756920\n"
     ]
    }
   ],
   "source": [
    "funv('22,33,44,55')"
   ]
  },
  {
   "cell_type": "code",
   "execution_count": 59,
   "id": "ff53ad40",
   "metadata": {},
   "outputs": [],
   "source": [
    "def sq(num):\n",
    "    z = ''.join(str(int(i)**2) for i in str(num))\n",
    "    return int(z)"
   ]
  },
  {
   "cell_type": "code",
   "execution_count": 60,
   "id": "233bd67d",
   "metadata": {},
   "outputs": [
    {
     "data": {
      "text/plain": [
       "811181"
      ]
     },
     "execution_count": 60,
     "metadata": {},
     "output_type": "execute_result"
    }
   ],
   "source": [
    "sq(9119)"
   ]
  },
  {
   "cell_type": "code",
   "execution_count": 79,
   "id": "c6995989",
   "metadata": {},
   "outputs": [
    {
     "name": "stdout",
     "output_type": "stream",
     "text": [
      "{1, 2, 3, 4, 5, 6}\n"
     ]
    }
   ],
   "source": [
    "lis = [1,2,3,4,5,2,6,2,1]\n",
    "lis.sort()\n",
    "lis = set(lis)\n",
    "print(lis)"
   ]
  },
  {
   "cell_type": "code",
   "execution_count": 125,
   "id": "4e846564",
   "metadata": {},
   "outputs": [],
   "source": [
    "import numpy as np\n",
    "def func(num):\n",
    "    print(np.mean(num))"
   ]
  },
  {
   "cell_type": "code",
   "execution_count": 128,
   "id": "ba956c86",
   "metadata": {},
   "outputs": [
    {
     "name": "stdout",
     "output_type": "stream",
     "text": [
      "2.5\n"
     ]
    }
   ],
   "source": [
    "num = 1234\n",
    "num = [int(i) for i in str(num)]\n",
    "func(num)"
   ]
  },
  {
   "cell_type": "code",
   "execution_count": null,
   "id": "9a3ebdda",
   "metadata": {},
   "outputs": [],
   "source": []
  }
 ],
 "metadata": {
  "kernelspec": {
   "display_name": "Python 3 (ipykernel)",
   "language": "python",
   "name": "python3"
  },
  "language_info": {
   "codemirror_mode": {
    "name": "ipython",
    "version": 3
   },
   "file_extension": ".py",
   "mimetype": "text/x-python",
   "name": "python",
   "nbconvert_exporter": "python",
   "pygments_lexer": "ipython3",
   "version": "3.10.9"
  }
 },
 "nbformat": 4,
 "nbformat_minor": 5
}

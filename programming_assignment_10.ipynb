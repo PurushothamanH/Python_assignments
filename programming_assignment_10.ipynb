{
 "cells": [
  {
   "cell_type": "code",
   "execution_count": 1,
   "id": "9930a48a",
   "metadata": {},
   "outputs": [
    {
     "name": "stdout",
     "output_type": "stream",
     "text": [
      "Enter the lenth of your list : 5\n",
      "12\n",
      "23\n",
      "42\n",
      "63\n",
      "52\n",
      "The List is  [12, 23, 42, 63, 52]\n",
      "Sum of elements in List 192\n"
     ]
    }
   ],
   "source": [
    "n = int(input(\"Enter the lenth of your list : \"))\n",
    "lst = []\n",
    "\n",
    "for i in range(n):\n",
    "    lst.append(int(input()))\n",
    "print(\"The List is \",lst)\n",
    "print(\"Sum of elements in List\",sum(lst))"
   ]
  },
  {
   "cell_type": "code",
   "execution_count": 4,
   "id": "28862d75",
   "metadata": {},
   "outputs": [
    {
     "name": "stdout",
     "output_type": "stream",
     "text": [
      "5040\n"
     ]
    }
   ],
   "source": [
    "lis = [1,2,3,4,5,6,7]\n",
    "sum =1\n",
    "for i in lis:\n",
    "    sum = sum*i\n",
    "print(sum)"
   ]
  },
  {
   "cell_type": "code",
   "execution_count": 5,
   "id": "bf8910a7",
   "metadata": {},
   "outputs": [
    {
     "name": "stdout",
     "output_type": "stream",
     "text": [
      "The minimum value of the list is  143\n"
     ]
    }
   ],
   "source": [
    "lis = [456,258,785,965,143,268,742,951]\n",
    "print('The minimum value of the list is ',min(lis))"
   ]
  },
  {
   "cell_type": "code",
   "execution_count": 7,
   "id": "640514f7",
   "metadata": {},
   "outputs": [
    {
     "name": "stdout",
     "output_type": "stream",
     "text": [
      "The maximum value of the list is  965\n"
     ]
    }
   ],
   "source": [
    "lis = [456,258,785,965,143,268,742,951]\n",
    "print('The maximum value of the list is ',max(lis))"
   ]
  },
  {
   "cell_type": "code",
   "execution_count": 11,
   "id": "537a2c9a",
   "metadata": {},
   "outputs": [
    {
     "name": "stdout",
     "output_type": "stream",
     "text": [
      "The second largest element is : 951\n"
     ]
    }
   ],
   "source": [
    "lis.sort(reverse=True)\n",
    "print(\"The second largest element is :\",lis[1])"
   ]
  },
  {
   "cell_type": "code",
   "execution_count": 16,
   "id": "676abda0",
   "metadata": {},
   "outputs": [
    {
     "name": "stdout",
     "output_type": "stream",
     "text": [
      "Enter the no of elements you want :3\n",
      "3 largest elements from the list are : [268, 258, 143]\n"
     ]
    }
   ],
   "source": [
    "lis = [456,258,785,965,143,268,742,951]\n",
    "n =  len(lis)\n",
    "lis.sort(reverse=True)\n",
    "nlargest = int(input('Enter the no of elements you want :'))\n",
    "if n < nlargest :\n",
    "    print(\"enterted value is larger then that list length\")\n",
    "else:\n",
    "    print(nlargest,\"largest elements from the list are :\",lis[(n-nlargest):])"
   ]
  },
  {
   "cell_type": "code",
   "execution_count": 17,
   "id": "62794972",
   "metadata": {},
   "outputs": [
    {
     "name": "stdout",
     "output_type": "stream",
     "text": [
      "742\n",
      "456\n",
      "268\n",
      "258\n"
     ]
    }
   ],
   "source": [
    "for i in lis:\n",
    "    if(i%2==0):\n",
    "        print(i)"
   ]
  },
  {
   "cell_type": "code",
   "execution_count": 20,
   "id": "98bd109c",
   "metadata": {},
   "outputs": [
    {
     "name": "stdout",
     "output_type": "stream",
     "text": [
      "965\n",
      "951\n",
      "785\n",
      "143\n"
     ]
    }
   ],
   "source": [
    "for i in lis:\n",
    "    if(i%2==1):\n",
    "        print(i)"
   ]
  },
  {
   "cell_type": "code",
   "execution_count": 21,
   "id": "2db06e0a",
   "metadata": {},
   "outputs": [
    {
     "name": "stdout",
     "output_type": "stream",
     "text": [
      "The List : [2, [], 4, 5, [], 6, 8, [], 3]\n",
      "The list after removing empty lists\n",
      "[2, 4, 5, 6, 8, 3]\n"
     ]
    }
   ],
   "source": [
    "lst = [2,[],4,5,[],6,8,[],3]\n",
    "print(\"The List :\",lst)\n",
    "removedlist = [ele for ele in lst if ele != []]\n",
    "print(\"The list after removing empty lists\")\n",
    "print(removedlist)"
   ]
  },
  {
   "cell_type": "code",
   "execution_count": 22,
   "id": "b8598cc3",
   "metadata": {},
   "outputs": [
    {
     "name": "stdout",
     "output_type": "stream",
     "text": [
      "[965, 951, 785, 742, 456, 268, 258, 143]\n",
      "[965, 951, 785, 742, 456, 268, 258, 143]\n"
     ]
    }
   ],
   "source": [
    "ls = lis.copy()\n",
    "print(lis)\n",
    "print(ls)"
   ]
  },
  {
   "cell_type": "code",
   "execution_count": 23,
   "id": "be031211",
   "metadata": {},
   "outputs": [
    {
     "name": "stdout",
     "output_type": "stream",
     "text": [
      "[965, 951, 785, 742, 456, 268, 258, 143]\n",
      "[965, 951, 785, 742, 456, 268, 258, 143]\n"
     ]
    }
   ],
   "source": [
    "la = lis[:]\n",
    "print(lis)\n",
    "print(ls)"
   ]
  },
  {
   "cell_type": "code",
   "execution_count": 24,
   "id": "a6d7e74c",
   "metadata": {},
   "outputs": [
    {
     "name": "stdout",
     "output_type": "stream",
     "text": [
      "Enter the lenth of your list : 5\n",
      "45\n",
      "74\n",
      "54\n",
      "45\n",
      "36\n",
      "The List is  [45, 74, 54, 45, 36]\n",
      "Enter the element to find its occurance : 45\n",
      "45 has occured 2 times in the list \n"
     ]
    }
   ],
   "source": [
    "n = int(input(\"Enter the lenth of your list : \"))\n",
    "lst = []\n",
    "\n",
    "for i in range(n):\n",
    "    lst.append(int(input()))\n",
    "print(\"The List is \",lst)\n",
    "ele= int(input(\"Enter the element to find its occurance : \"))\n",
    "print(ele,\"has occured {} times in the list \".format(lst.count(ele)))"
   ]
  },
  {
   "cell_type": "code",
   "execution_count": null,
   "id": "7538ea08",
   "metadata": {},
   "outputs": [],
   "source": []
  }
 ],
 "metadata": {
  "kernelspec": {
   "display_name": "Python 3 (ipykernel)",
   "language": "python",
   "name": "python3"
  },
  "language_info": {
   "codemirror_mode": {
    "name": "ipython",
    "version": 3
   },
   "file_extension": ".py",
   "mimetype": "text/x-python",
   "name": "python",
   "nbconvert_exporter": "python",
   "pygments_lexer": "ipython3",
   "version": "3.10.9"
  }
 },
 "nbformat": 4,
 "nbformat_minor": 5
}

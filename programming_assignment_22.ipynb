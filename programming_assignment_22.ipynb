{
 "cells": [
  {
   "cell_type": "code",
   "execution_count": 11,
   "id": "1b117b2e",
   "metadata": {},
   "outputs": [],
   "source": [
    "def list_operation(x, y, n):\n",
    "    l1 = []\n",
    "    \n",
    "    for i in range(x,y):\n",
    "        if (i%n) == 0:\n",
    "            l1.append(i)\n",
    "    return l1"
   ]
  },
  {
   "cell_type": "code",
   "execution_count": 12,
   "id": "126363c0",
   "metadata": {},
   "outputs": [
    {
     "data": {
      "text/plain": [
       "[3, 6, 9]"
      ]
     },
     "execution_count": 12,
     "metadata": {},
     "output_type": "execute_result"
    }
   ],
   "source": [
    "list_operation(1, 10, 3)"
   ]
  },
  {
   "cell_type": "code",
   "execution_count": 28,
   "id": "92a32a4f",
   "metadata": {},
   "outputs": [],
   "source": [
    "def society(lis):\n",
    "    lis_fir =[]\n",
    "    for i in range(len(lis)):\n",
    "        first =lis[i][0]\n",
    "        lis_fir.append(first)\n",
    "    lis_fir.sort()\n",
    "    s_name = str(''.join(lis_fir))\n",
    "    print(s_name)"
   ]
  },
  {
   "cell_type": "code",
   "execution_count": 29,
   "id": "89ba7aad",
   "metadata": {},
   "outputs": [
    {
     "name": "stdout",
     "output_type": "stream",
     "text": [
      "ADPR\n"
     ]
    }
   ],
   "source": [
    "society(['Abishek','Ram','David','Praveen'])"
   ]
  },
  {
   "cell_type": "code",
   "execution_count": 30,
   "id": "31753130",
   "metadata": {},
   "outputs": [],
   "source": [
    "def isogram(a):\n",
    "    b = a.lower()\n",
    "    if len(list(a)) == len(set(b)):\n",
    "        print('True')\n",
    "    else:\n",
    "        print('False')  "
   ]
  },
  {
   "cell_type": "code",
   "execution_count": 31,
   "id": "ba66f5d6",
   "metadata": {},
   "outputs": [
    {
     "name": "stdout",
     "output_type": "stream",
     "text": [
      "True\n"
     ]
    }
   ],
   "source": [
    "isogram(\"Algorism\")"
   ]
  },
  {
   "cell_type": "code",
   "execution_count": 32,
   "id": "5bef4d92",
   "metadata": {},
   "outputs": [],
   "source": [
    "def is_in_order(word):\n",
    "    \n",
    "    l3 = []\n",
    "    for i in word:\n",
    "        l3.append(i)\n",
    "\n",
    "    l3.sort()\n",
    "    joined_word = ''.join(l3)\n",
    "\n",
    "    if word == joined_word:\n",
    "        print(True)\n",
    "    else:\n",
    "        print(False)"
   ]
  },
  {
   "cell_type": "code",
   "execution_count": 33,
   "id": "ea29ef4d",
   "metadata": {},
   "outputs": [
    {
     "name": "stdout",
     "output_type": "stream",
     "text": [
      "False\n"
     ]
    }
   ],
   "source": [
    "is_in_order(\"edabit\")"
   ]
  },
  {
   "cell_type": "code",
   "execution_count": 34,
   "id": "6b6faa31",
   "metadata": {},
   "outputs": [],
   "source": [
    "def simon_says(a,b):\n",
    "    a.remove(a[len(a)-1])\n",
    "    b.remove(b[0])\n",
    "    if set(a) == set(b):\n",
    "        print(True)\n",
    "    else:\n",
    "        print(False)\n",
    "        "
   ]
  },
  {
   "cell_type": "code",
   "execution_count": 35,
   "id": "6804f1d6",
   "metadata": {},
   "outputs": [
    {
     "name": "stdout",
     "output_type": "stream",
     "text": [
      "False\n"
     ]
    }
   ],
   "source": [
    "simon_says([1, 2], [5, 5])"
   ]
  },
  {
   "cell_type": "code",
   "execution_count": null,
   "id": "4006914e",
   "metadata": {},
   "outputs": [],
   "source": []
  }
 ],
 "metadata": {
  "kernelspec": {
   "display_name": "Python 3 (ipykernel)",
   "language": "python",
   "name": "python3"
  },
  "language_info": {
   "codemirror_mode": {
    "name": "ipython",
    "version": 3
   },
   "file_extension": ".py",
   "mimetype": "text/x-python",
   "name": "python",
   "nbconvert_exporter": "python",
   "pygments_lexer": "ipython3",
   "version": "3.10.5"
  }
 },
 "nbformat": 4,
 "nbformat_minor": 5
}

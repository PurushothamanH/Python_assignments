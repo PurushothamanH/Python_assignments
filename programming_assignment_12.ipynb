{
 "cells": [
  {
   "cell_type": "code",
   "execution_count": 2,
   "id": "0de0dc50",
   "metadata": {},
   "outputs": [
    {
     "name": "stdout",
     "output_type": "stream",
     "text": [
      "[1, 2, 3, 4, 5]\n"
     ]
    }
   ],
   "source": [
    "def extract_unique_values(dictionary):\n",
    "    unique_values = set(val for sublist in dictionary.values() for val in sublist)\n",
    "    return list(unique_values)\n",
    "sample_dict = {\n",
    "    'A': [1, 2, 3],\n",
    "    'B': [2, 3, 4],\n",
    "    'C': [3, 4, 5]\n",
    "}\n",
    "unique_values = extract_unique_values(sample_dict)\n",
    "print(unique_values)"
   ]
  },
  {
   "cell_type": "code",
   "execution_count": 3,
   "id": "ea54a10a",
   "metadata": {},
   "outputs": [
    {
     "name": "stdout",
     "output_type": "stream",
     "text": [
      "25\n"
     ]
    }
   ],
   "source": [
    "def sum_of_dictionary_items(dictionary):\n",
    "    total_sum = sum(sum(val) if isinstance(val, list) else val for val in dictionary.values())\n",
    "    return total_sum\n",
    "sample_dict = {\n",
    "    'A': [1, 2, 3],\n",
    "    'B': 10,\n",
    "    'C': [4, 5]\n",
    "}\n",
    "result = sum_of_dictionary_items(sample_dict)\n",
    "print(result)"
   ]
  },
  {
   "cell_type": "code",
   "execution_count": 4,
   "id": "1e38cda5",
   "metadata": {},
   "outputs": [
    {
     "name": "stdout",
     "output_type": "stream",
     "text": [
      "{'A': 1, 'B': 2, 'C': 3, 'D': 4}\n"
     ]
    }
   ],
   "source": [
    "def merge_dictionaries(dict1, dict2):\n",
    "    merged_dict = {**dict1, **dict2}\n",
    "    return merged_dict\n",
    "dict1 = {'A': 1, 'B': 2}\n",
    "dict2 = {'C': 3, 'D': 4}\n",
    "merged_dictionary = merge_dictionaries(dict1, dict2)\n",
    "\n",
    "print(merged_dictionary) "
   ]
  },
  {
   "cell_type": "code",
   "execution_count": 5,
   "id": "e3de2b6d",
   "metadata": {},
   "outputs": [
    {
     "name": "stdout",
     "output_type": "stream",
     "text": [
      "{'A': 1, 'B': 2, 'C': 3}\n"
     ]
    }
   ],
   "source": [
    "def convert_to_flat_dictionary(key_values_list):\n",
    "    flat_dict = dict(key_values_list)\n",
    "    return flat_dict\n",
    "key_values_list = [('A', 1), ('B', 2), ('C', 3)]\n",
    "flat_dictionary = convert_to_flat_dictionary(key_values_list)\n",
    "print(flat_dictionary)"
   ]
  },
  {
   "cell_type": "code",
   "execution_count": 6,
   "id": "c5dbac8c",
   "metadata": {},
   "outputs": [
    {
     "name": "stdout",
     "output_type": "stream",
     "text": [
      "OrderedDict([('A', 1), ('B', 2), ('C', 3)])\n"
     ]
    }
   ],
   "source": [
    "from collections import OrderedDict\n",
    "\n",
    "def insert_at_beginning(od, key, value):\n",
    "    od[key] = value\n",
    "    od.move_to_end(key, last=False)\n",
    "ordered_dict = OrderedDict([('B', 2), ('C', 3)])\n",
    "insert_at_beginning(ordered_dict, 'A', 1)\n",
    "print(ordered_dict)"
   ]
  },
  {
   "cell_type": "code",
   "execution_count": 7,
   "id": "2e0147ba",
   "metadata": {},
   "outputs": [
    {
     "name": "stdout",
     "output_type": "stream",
     "text": [
      "Pattern order found in the string.\n"
     ]
    }
   ],
   "source": [
    "from collections import OrderedDict\n",
    "\n",
    "def check_order_of_characters(input_string, pattern):\n",
    "    od = OrderedDict.fromkeys(input_string)\n",
    "    pattern_length = len(pattern)\n",
    "    matched_chars = 0\n",
    "\n",
    "    for key in od:\n",
    "        if key == pattern[matched_chars]:\n",
    "            matched_chars += 1\n",
    "        if matched_chars == pattern_length:\n",
    "            return True\n",
    "\n",
    "    return False\n",
    "input_str = \"hello world\"\n",
    "pattern_to_check = \"hlo\"\n",
    "result = check_order_of_characters(input_str, pattern_to_check)\n",
    "\n",
    "if result:\n",
    "    print(\"Pattern order found in the string.\")\n",
    "else:\n",
    "    print(\"Pattern order not found in the string.\")"
   ]
  },
  {
   "cell_type": "code",
   "execution_count": 8,
   "id": "4f5a7698",
   "metadata": {},
   "outputs": [
    {
     "name": "stdout",
     "output_type": "stream",
     "text": [
      "Sorted Dictionary by Key:\n",
      "{'A': 1, 'B': 2, 'C': 3, 'D': 4}\n"
     ]
    }
   ],
   "source": [
    "sample_dict = {'B': 2, 'A': 1, 'D': 4, 'C': 3}\n",
    "sorted_dict_by_key = dict(sorted(sample_dict.items()))\n",
    "\n",
    "print(\"Sorted Dictionary by Key:\")\n",
    "print(sorted_dict_by_key)"
   ]
  },
  {
   "cell_type": "code",
   "execution_count": null,
   "id": "971b57e6",
   "metadata": {},
   "outputs": [],
   "source": []
  }
 ],
 "metadata": {
  "kernelspec": {
   "display_name": "Python 3 (ipykernel)",
   "language": "python",
   "name": "python3"
  },
  "language_info": {
   "codemirror_mode": {
    "name": "ipython",
    "version": 3
   },
   "file_extension": ".py",
   "mimetype": "text/x-python",
   "name": "python",
   "nbconvert_exporter": "python",
   "pygments_lexer": "ipython3",
   "version": "3.10.9"
  }
 },
 "nbformat": 4,
 "nbformat_minor": 5
}

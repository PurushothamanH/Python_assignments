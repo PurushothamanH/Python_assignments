{
 "cells": [
  {
   "cell_type": "code",
   "execution_count": null,
   "id": "7cf4e888",
   "metadata": {},
   "outputs": [],
   "source": [
    "class DivisibleBySeven:\n",
    "    def __init__(self, n):\n",
    "        self.n = n\n",
    "\n",
    "    def generate_divisible_by_seven(self):\n",
    "        for num in range(self.n + 1):\n",
    "            if num % 7 == 0:\n",
    "                yield num\n",
    "divisible_by_seven = DivisibleBySeven(50)\n",
    "for num in divisible_by_seven.generate_divisible_by_seven():\n",
    "    print(num)"
   ]
  },
  {
   "cell_type": "code",
   "execution_count": null,
   "id": "d153b8d9",
   "metadata": {},
   "outputs": [],
   "source": [
    "def word_frequency(input_str):\n",
    "    words = input_str.split()\n",
    "    word_freq = {}\n",
    "    \n",
    "    for word in words:\n",
    "        word = word.strip('.,?')\n",
    "        if word in word_freq:\n",
    "            word_freq[word] += 1\n",
    "        else:\n",
    "            word_freq[word] = 1\n",
    "    \n",
    "    sorted_word_freq = sorted(word_freq.items(), key=lambda x: x[0])\n",
    "    \n",
    "    for key, value in sorted_word_freq:\n",
    "        print(f\"{key}:{value}\")\n",
    "\n",
    "input_text = \"New to Python or choosing between Python 2 and Python 3? Read Python 2 or Python 3.\"\n",
    "word_frequency(input_text)"
   ]
  },
  {
   "cell_type": "code",
   "execution_count": null,
   "id": "84c3f509",
   "metadata": {},
   "outputs": [],
   "source": [
    "class Person:\n",
    "    def getGender(self):\n",
    "        return \"Unknown\"\n",
    "\n",
    "class Male(Person):\n",
    "    def getGender(self):\n",
    "        return \"Male\"\n",
    "\n",
    "class Female(Person):\n",
    "    def getGender(self):\n",
    "        return \"Female\"\n",
    "\n",
    "person = Person()\n",
    "male = Male()\n",
    "female = Female()\n",
    "\n",
    "print(person.getGender())  \n",
    "print(male.getGender())  \n",
    "print(female.getGender())  "
   ]
  },
  {
   "cell_type": "code",
   "execution_count": null,
   "id": "afb10545",
   "metadata": {},
   "outputs": [],
   "source": [
    "subjects = [\"I\", \"You\"]\n",
    "verbs = [\"Play\", \"Love\"]\n",
    "objects = [\"Hockey\", \"Football\"]\n",
    "\n",
    "sentences = [(sub, verb, obj) for sub in subjects for verb in verbs for obj in objects]\n",
    "\n",
    "for sentence in sentences:\n",
    "    print(\" \".join(sentence))"
   ]
  },
  {
   "cell_type": "code",
   "execution_count": null,
   "id": "c0c899c1",
   "metadata": {},
   "outputs": [],
   "source": [
    "import zlib\n",
    "s = 'hello world!hello world!hello world!hello world!'\n",
    "t = zlib.compress(s)\n",
    "print t\n",
    "print zlib.decompress(t)\n",
    "s = 'hello world!hello world!hello world!hello world!'\n",
    "y = bytes(s, 'utf-8')\n",
    "x = zlib.compress(y)\n",
    "print(x)\n",
    "print(zlib.decompress(x))"
   ]
  },
  {
   "cell_type": "code",
   "execution_count": null,
   "id": "986c7dd0",
   "metadata": {},
   "outputs": [],
   "source": [
    "import math\n",
    "def bin_search(li, element):\n",
    "    bottom = 0\n",
    "    top = len(li)-1\n",
    "    index = -1\n",
    "    while top>=bottom and index==-1:\n",
    "        mid = int(math.floor((top+bottom)/2.0))\n",
    "        if li[mid]==element:\n",
    "            index = mid\n",
    "        elif li[mid]>element:\n",
    "            top = mid-1\n",
    "        else:\n",
    "            bottom = mid+1\n",
    "\n",
    "    return index\n",
    "\n",
    "li=[2,5,7,9,11,17,222]\n",
    "print bin_search(li,11)\n",
    "print bin_search(li,12)"
   ]
  }
 ],
 "metadata": {
  "kernelspec": {
   "display_name": "Python 3 (ipykernel)",
   "language": "python",
   "name": "python3"
  },
  "language_info": {
   "codemirror_mode": {
    "name": "ipython",
    "version": 3
   },
   "file_extension": ".py",
   "mimetype": "text/x-python",
   "name": "python",
   "nbconvert_exporter": "python",
   "pygments_lexer": "ipython3",
   "version": "3.10.9"
  }
 },
 "nbformat": 4,
 "nbformat_minor": 5
}

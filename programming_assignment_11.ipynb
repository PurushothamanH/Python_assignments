{
 "cells": [
  {
   "cell_type": "code",
   "execution_count": null,
   "id": "51bf9962",
   "metadata": {},
   "outputs": [],
   "source": [
    "def find_words_greater_than_k(word_list, k):\n",
    "    return [word for word in word_list if len(word) > k]\n",
    "words = [\"apple\", \"banana\", \"orange\", \"kiwi\", \"pineapple\"]\n",
    "k = 5\n",
    "result = find_words_greater_than_k(words, k)\n",
    "print(f\"Words greater than length {k}: {result}\")"
   ]
  },
  {
   "cell_type": "code",
   "execution_count": null,
   "id": "9d2ecec7",
   "metadata": {},
   "outputs": [],
   "source": [
    "def remove_ith_character(input_string, i):\n",
    "    if i < 0 or i >= len(input_string):\n",
    "        return \"Invalid index for removal\"\n",
    "    return input_string[:i] + input_string[i+1:]\n",
    "\n",
    "input_string = \"example\"\n",
    "i = 2\n",
    "result = remove_ith_character(input_string, i)\n",
    "print(f\"String after removing the {i}-th character: {result}\")"
   ]
  },
  {
   "cell_type": "code",
   "execution_count": null,
   "id": "29fb9e2c",
   "metadata": {},
   "outputs": [],
   "source": [
    "def split_and_join(input_string):\n",
    "    words_list = input_string.split()\n",
    "    joined_string = \"-\".join(words_list)\n",
    "\n",
    "    return words_list, joined_string\n",
    "input_string = \"This is a sample string for splitting and joining\"\n",
    "\n",
    "words_list, joined_string = split_and_join(input_string)\n",
    "\n",
    "print(\"Original String:\")\n",
    "print(input_string)\n",
    "print(\"\\nAfter Splitting:\")\n",
    "print(words_list)\n",
    "print(\"\\nAfter Joining with Hyphen:\")\n",
    "print(joined_string)"
   ]
  },
  {
   "cell_type": "code",
   "execution_count": null,
   "id": "3acdc29d",
   "metadata": {},
   "outputs": [],
   "source": [
    "def is_binary_string(input_string):\n",
    "    for char in input_string:\n",
    "        if char != '0' and char != '1':\n",
    "            return False\n",
    "    return True\n",
    "input_string = \"1010101\"\n",
    "\n",
    "if is_binary_string(input_string):\n",
    "    print(f\"The string '{input_string}' is a binary string.\")\n",
    "else:\n",
    "    print(f\"The string '{input_string}' is not a binary string.\")"
   ]
  },
  {
   "cell_type": "code",
   "execution_count": null,
   "id": "32c00eef",
   "metadata": {},
   "outputs": [],
   "source": [
    "def find_uncommon_words(str1, str2):\n",
    "    words_str1 = set(str1.split())\n",
    "    words_str2 = set(str2.split())\n",
    "\n",
    "    uncommon_words = words_str1.symmetric_difference(words_str2)\n",
    "    return uncommon_words\n",
    "string1 = \"hello world python\"\n",
    "string2 = \"hello java programming\"\n",
    "\n",
    "uncommon_words = find_uncommon_words(string1, string2)\n",
    "print(\"Uncommon words between the two strings:\")\n",
    "print(uncommon_words)"
   ]
  },
  {
   "cell_type": "code",
   "execution_count": null,
   "id": "b8912029",
   "metadata": {},
   "outputs": [],
   "source": [
    "def find_dup_char(input):\n",
    "    x = filter(lambda x: input.count(x) >= 2, input)\n",
    "    print(' '.join(set(x)))\n",
    "\n",
    "input = 'geeksforgeeks'\n",
    "find_dup_char(input)\n"
   ]
  },
  {
   "cell_type": "code",
   "execution_count": null,
   "id": "ebc31d4e",
   "metadata": {},
   "outputs": [],
   "source": [
    "import re\n",
    "def contains_special_characters(input_string):\n",
    "    special_characters = re.compile('[@_!#$%^&*()<>?/\\|}{~:]')\n",
    "    return bool(special_characters.search(input_string))\n",
    "input_string = \"Hello! How are you?\"\n",
    "if contains_special_characters(input_string):\n",
    "    print(\"The string contains special characters.\")\n",
    "else:\n",
    "    print(\"The string does not contain any special characters.\")"
   ]
  },
  {
   "cell_type": "code",
   "execution_count": null,
   "id": "05836fa0",
   "metadata": {},
   "outputs": [],
   "source": []
  },
  {
   "cell_type": "code",
   "execution_count": null,
   "id": "c63b0722",
   "metadata": {},
   "outputs": [],
   "source": []
  },
  {
   "cell_type": "code",
   "execution_count": null,
   "id": "d9fa8d31",
   "metadata": {},
   "outputs": [],
   "source": []
  },
  {
   "cell_type": "code",
   "execution_count": null,
   "id": "0c212d9b",
   "metadata": {},
   "outputs": [],
   "source": []
  }
 ],
 "metadata": {
  "kernelspec": {
   "display_name": "Python 3 (ipykernel)",
   "language": "python",
   "name": "python3"
  },
  "language_info": {
   "codemirror_mode": {
    "name": "ipython",
    "version": 3
   },
   "file_extension": ".py",
   "mimetype": "text/x-python",
   "name": "python",
   "nbconvert_exporter": "python",
   "pygments_lexer": "ipython3",
   "version": "3.10.9"
  }
 },
 "nbformat": 4,
 "nbformat_minor": 5
}

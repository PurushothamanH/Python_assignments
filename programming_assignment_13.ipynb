{
 "cells": [
  {
   "cell_type": "code",
   "execution_count": 2,
   "id": "8ae0c3ff",
   "metadata": {},
   "outputs": [
    {
     "name": "stdout",
     "output_type": "stream",
     "text": [
      "Output of the program:\n",
      "25,20,22\n"
     ]
    }
   ],
   "source": [
    "import math\n",
    "\n",
    "def calculate_value(input_str):\n",
    "    C = 50\n",
    "    H = 30\n",
    "    result = []\n",
    "    \n",
    "    values = input_str.split(',')\n",
    "    \n",
    "    for value in values:\n",
    "        D = int(value)\n",
    "        Q = math.sqrt((2 * C * D) / H)\n",
    "        result.append(int(Q))\n",
    "    \n",
    "    return result\n",
    "input_sequence = \"200,130,150\"\n",
    "\n",
    "output_values = calculate_value(input_sequence)\n",
    "print(\"Output of the program:\")\n",
    "print(','.join(map(str, output_values)))"
   ]
  },
  {
   "cell_type": "code",
   "execution_count": null,
   "id": "589e98b6",
   "metadata": {},
   "outputs": [],
   "source": [
    "def generate_2d_array(X, Y):\n",
    "    result = [[i*j for j in range(Y)] for i in range(X)]\n",
    "    return result\n",
    "X, Y = map(int, input(\"Enter two digits X, Y: \").split(','))\n",
    "output_array = generate_2d_array(X, Y)\n",
    "print(\"Output of the program:\")\n",
    "print(output_array)"
   ]
  },
  {
   "cell_type": "code",
   "execution_count": null,
   "id": "6f80c413",
   "metadata": {},
   "outputs": [],
   "source": [
    "def sort_words(input_str):\n",
    "    words = input_str.split(',')\n",
    "    sorted_words = sorted(words)\n",
    "    return ','.join(sorted_words)\n",
    "input_sequence = \"without,hello,bag,world\"\n",
    "sorted_sequence = sort_words(input_sequence)\n",
    "print(\"Output of the program:\")\n",
    "print(sorted_sequence)"
   ]
  },
  {
   "cell_type": "code",
   "execution_count": null,
   "id": "0beb7daf",
   "metadata": {},
   "outputs": [],
   "source": [
    "def remove_duplicates_and_sort(input_str):\n",
    "    words = input_str.split()\n",
    "    unique_words = sorted(set(words))\n",
    "    return ' '.join(unique_words)\n",
    "\n",
    "input_sequence = \"hello world and practice makes perfect and hello world again\"\n",
    "\n",
    "result = remove_duplicates_and_sort(input_sequence)\n",
    "print(\"Output of the program:\")\n",
    "print(result)"
   ]
  },
  {
   "cell_type": "code",
   "execution_count": null,
   "id": "e04f6fbc",
   "metadata": {},
   "outputs": [],
   "source": [
    "def count_letters_digits(sentence):\n",
    "    letters = sum(c.isalpha() for c in sentence)\n",
    "    digits = sum(c.isdigit() for c in sentence)\n",
    "    return letters, digits\n",
    "input_sentence = \"hello world! 123\"\n",
    "letters, digits = count_letters_digits(input_sentence)\n",
    "\n",
    "print(\"LETTERS\", letters)\n",
    "print(\"\\nDIGITS\", digits)"
   ]
  },
  {
   "cell_type": "code",
   "execution_count": null,
   "id": "7e81c271",
   "metadata": {},
   "outputs": [],
   "source": [
    "import re\n",
    "\n",
    "def check_password_validity(password):\n",
    "    if len(password) < 6 or len(password) > 12:\n",
    "        return False\n",
    "    if not re.search(\"[a-z]\", password):\n",
    "        return False\n",
    "    if not re.search(\"[A-Z]\", password):\n",
    "        return False\n",
    "    if not re.search(\"[0-9]\", password):\n",
    "        return False\n",
    "    if not re.search(\"[$#@]\", password):\n",
    "        return False\n",
    "    return True\n",
    "input_passwords = \"ABd1234@1,a F1#,2w3E*,2We3345\"\n",
    "valid_passwords = [password for password in input_passwords.split(',') if check_password_validity(password)]\n",
    "\n",
    "print(\"Valid passwords:\")\n",
    "print(','.join(valid_passwords))"
   ]
  },
  {
   "cell_type": "code",
   "execution_count": null,
   "id": "8d4e8c4b",
   "metadata": {},
   "outputs": [],
   "source": []
  },
  {
   "cell_type": "code",
   "execution_count": null,
   "id": "eb6d1760",
   "metadata": {},
   "outputs": [],
   "source": []
  },
  {
   "cell_type": "code",
   "execution_count": null,
   "id": "a263eb08",
   "metadata": {},
   "outputs": [],
   "source": []
  },
  {
   "cell_type": "code",
   "execution_count": null,
   "id": "16140491",
   "metadata": {},
   "outputs": [],
   "source": []
  },
  {
   "cell_type": "code",
   "execution_count": null,
   "id": "844241cc",
   "metadata": {},
   "outputs": [],
   "source": []
  }
 ],
 "metadata": {
  "kernelspec": {
   "display_name": "Python 3 (ipykernel)",
   "language": "python",
   "name": "python3"
  },
  "language_info": {
   "codemirror_mode": {
    "name": "ipython",
    "version": 3
   },
   "file_extension": ".py",
   "mimetype": "text/x-python",
   "name": "python",
   "nbconvert_exporter": "python",
   "pygments_lexer": "ipython3",
   "version": "3.10.9"
  }
 },
 "nbformat": 4,
 "nbformat_minor": 5
}

{
 "cells": [
  {
   "cell_type": "code",
   "execution_count": 2,
   "id": "b81dcd04",
   "metadata": {},
   "outputs": [],
   "source": [
    "def single_neuron(inputs, weights, bias):\n",
    "    output = sum(x * w for x, w in zip(inputs, weights)) + bias\n",
    "    return output"
   ]
  },
  {
   "cell_type": "code",
   "execution_count": 3,
   "id": "feb53193",
   "metadata": {},
   "outputs": [],
   "source": [
    "def relu(x):\n",
    "    return max(0, x)"
   ]
  },
  {
   "cell_type": "code",
   "execution_count": 4,
   "id": "8d48bc7e",
   "metadata": {},
   "outputs": [],
   "source": [
    "import numpy as np\n",
    "\n",
    "def dense_layer(inputs, weights, biases):\n",
    "    return np.dot(inputs, weights) + biases\n"
   ]
  },
  {
   "cell_type": "code",
   "execution_count": 5,
   "id": "84808303",
   "metadata": {},
   "outputs": [],
   "source": [
    "def dense_layer_plain(inputs, weights, biases):\n",
    "    outputs = []\n",
    "    for i in range(len(biases)):\n",
    "        neuron_output = sum(inputs[j] * weights[j][i] for j in range(len(inputs))) + biases[i]\n",
    "        outputs.append(neuron_output)\n",
    "    return outputs\n"
   ]
  },
  {
   "cell_type": "raw",
   "id": "1c809f06",
   "metadata": {},
   "source": [
    "Hidden Size of a Layer:\n",
    "\n",
    "The \"hidden size\" refers to the number of neurons (or units) in a hidden layer of a neural network. This value determines the layer’s output dimension and significantly impacts the model’s capacity to learn complex patterns."
   ]
  },
  {
   "cell_type": "code",
   "execution_count": 6,
   "id": "0333bf95",
   "metadata": {},
   "outputs": [],
   "source": [
    "import torch\n",
    "tensor = torch.tensor([[1, 2], [3, 4]])\n",
    "transposed_tensor = tensor.t()\n"
   ]
  },
  {
   "cell_type": "raw",
   "id": "8c48e01c",
   "metadata": {},
   "source": [
    "Why Plain Python Matrix Multiplication is Slow:\n",
    "\n",
    "Python’s list operations and loops are slower than optimized matrix operations provided by libraries like NumPy or PyTorch because they lack optimizations like vectorized operations and parallel computing."
   ]
  },
  {
   "cell_type": "raw",
   "id": "30fb6db8",
   "metadata": {},
   "source": [
    "In matmul, Why ac == br:\n",
    "\n",
    "In matrix multiplication (A * B), the number of columns in the first matrix (A, with shape [a, c]) must equal the number of rows in the second matrix (B, with shape [b, r]). Hence, ac == br ensures matrix dimensions align for valid multiplication."
   ]
  },
  {
   "cell_type": "code",
   "execution_count": null,
   "id": "4f82dfc9",
   "metadata": {},
   "outputs": [],
   "source": [
    "%time result = function()"
   ]
  },
  {
   "cell_type": "raw",
   "id": "86eded34",
   "metadata": {},
   "source": [
    "Elementwise Arithmetic:\n",
    "\n",
    "Elementwise arithmetic performs operations on corresponding elements in two arrays of the same shape, such as elementwise addition, subtraction, multiplication, and division."
   ]
  },
  {
   "cell_type": "code",
   "execution_count": 9,
   "id": "36547203",
   "metadata": {},
   "outputs": [],
   "source": [
    "a = torch.tensor([1, 2, 3])\n",
    "b = torch.tensor([0, 2, 1])\n",
    "result = a > b"
   ]
  },
  {
   "cell_type": "code",
   "execution_count": null,
   "id": "bb631d86",
   "metadata": {},
   "outputs": [],
   "source": [
    "scalar_tensor = torch.tensor(42)\n",
    "plain_scalar = scalar_tensor.item()"
   ]
  },
  {
   "cell_type": "raw",
   "id": "e15063dd",
   "metadata": {},
   "source": [
    "How Elementwise Arithmetic Speeds Up matmul:\n",
    "By breaking down matrix multiplication into elementwise operations, computations leverage vectorized operations, reducing loop overhead and allowing parallel processing."
   ]
  },
  {
   "cell_type": "raw",
   "id": "cd6a0aa5",
   "metadata": {},
   "source": [
    "Broadcasting Rules:\n",
    "Broadcasting allows operations on tensors of different shapes. The smaller tensor is expanded along mismatched dimensions (if compatible). Rules:\n",
    "If dimensions are unequal, prepend 1s to the smaller tensor.\n",
    "Dimensions must either be equal, or one of them must be 1."
   ]
  },
  {
   "cell_type": "code",
   "execution_count": 10,
   "id": "7c1e1a3e",
   "metadata": {},
   "outputs": [],
   "source": [
    "a = torch.tensor([1, 2, 3])\n",
    "b = torch.tensor([[1, 1, 1], [2, 2, 2]])\n",
    "a_expanded = a.expand_as(b)  # Expands 'a' to match 'b's shape for broadcasting"
   ]
  },
  {
   "cell_type": "code",
   "execution_count": null,
   "id": "d3d9f680",
   "metadata": {},
   "outputs": [],
   "source": []
  }
 ],
 "metadata": {
  "kernelspec": {
   "display_name": "Python 3 (ipykernel)",
   "language": "python",
   "name": "python3"
  },
  "language_info": {
   "codemirror_mode": {
    "name": "ipython",
    "version": 3
   },
   "file_extension": ".py",
   "mimetype": "text/x-python",
   "name": "python",
   "nbconvert_exporter": "python",
   "pygments_lexer": "ipython3",
   "version": "3.10.9"
  }
 },
 "nbformat": 4,
 "nbformat_minor": 5
}

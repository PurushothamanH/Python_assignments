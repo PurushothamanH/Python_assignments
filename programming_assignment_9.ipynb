{
 "cells": [
  {
   "cell_type": "code",
   "execution_count": null,
   "id": "ce44d1f5",
   "metadata": {},
   "outputs": [],
   "source": [
    "def is_disarium(number):\n",
    "    num_str = str(number)\n",
    "    length = len(num_str)\n",
    "    disarium_sum = sum(int(digit) ** (index + 1) for index, digit in enumerate(num_str))\n",
    "    return disarium_sum == number\n",
    "\n",
    "def main():\n",
    "    try:\n",
    "        number = int(input(\"Enter a number: \"))\n",
    "        if is_disarium(number):\n",
    "            print(number, \"is a Disarium number.\")\n",
    "        else:\n",
    "            print(number, \"is not a Disarium number.\")\n",
    "    except ValueError:\n",
    "        print(\"Please enter a valid integer.\")"
   ]
  },
  {
   "cell_type": "code",
   "execution_count": null,
   "id": "9e6a2b7e",
   "metadata": {},
   "outputs": [],
   "source": [
    "def calculate_length(num):\n",
    "    length = 0\n",
    "    while num != 0:\n",
    "        length += 1\n",
    "        num //= 10\n",
    "    return length\n",
    "\n",
    "def is_disarium(num):\n",
    "    length = calculate_length(num)\n",
    "    temp = num\n",
    "    sum = 0\n",
    "\n",
    "    while temp > 0:\n",
    "        digit = temp % 10\n",
    "        sum += digit ** length\n",
    "        length -= 1\n",
    "        temp //= 10\n",
    "\n",
    "    return sum == num\n",
    "\n",
    "print(\"Disarium numbers between 1 to 100:\")\n",
    "for i in range(1, 101):\n",
    "    if is_disarium(i):\n",
    "        print(i)"
   ]
  },
  {
   "cell_type": "code",
   "execution_count": null,
   "id": "bdf9b970",
   "metadata": {},
   "outputs": [],
   "source": [
    "def is_happy_number(num):\n",
    "    seen = set()\n",
    "    while num != 1 and num not in seen:\n",
    "        seen.add(num)\n",
    "        num = sum(int(digit) ** 2 for digit in str(num))\n",
    "    return num == 1\n",
    "\n",
    "num = int(input(\"Enter a number to check if it is a Happy Number: \"))\n",
    "if is_happy_number(num):\n",
    "    print(num, \"is a Happy Number!\")\n",
    "else:\n",
    "    print(num, \"is not a Happy Number.\")"
   ]
  },
  {
   "cell_type": "code",
   "execution_count": null,
   "id": "84844cf5",
   "metadata": {},
   "outputs": [],
   "source": [
    "def is_happy_number(num):\n",
    "    seen = set()\n",
    "    while num != 1 and num not in seen:\n",
    "        seen.add(num)\n",
    "        num = sum(int(digit) ** 2 for digit in str(num))\n",
    "    return num == 1\n",
    "\n",
    "def print_happy_numbers():\n",
    "    happy_numbers = []\n",
    "    for i in range(1, 101):\n",
    "        if is_happy_number(i):\n",
    "            happy_numbers.append(i)\n",
    "    return happy_numbers\n",
    "\n",
    "print(\"Happy numbers between 1 and 100:\")\n",
    "happy_numbers = print_happy_numbers()\n",
    "print(happy_numbers)"
   ]
  },
  {
   "cell_type": "code",
   "execution_count": null,
   "id": "0937a9b5",
   "metadata": {},
   "outputs": [],
   "source": [
    "def is_harshad_number(num):\n",
    "    sum_of_digits = sum(int(digit) for digit in str(num))\n",
    "    return num % sum_of_digits == 0\n",
    "\n",
    "num = int(input(\"Enter a number to check if it is a Harshad Number: \"))\n",
    "if is_harshad_number(num):\n",
    "    print(num, \"is a Harshad Number!\")\n",
    "else:\n",
    "    print(num, \"is not a Harshad Number.\")"
   ]
  },
  {
   "cell_type": "code",
   "execution_count": null,
   "id": "fb926bce",
   "metadata": {},
   "outputs": [],
   "source": [
    "def is_pronic(num):\n",
    "    for i in range(num):\n",
    "        if i * (i + 1) == num:\n",
    "            return True\n",
    "    return False\n",
    "\n",
    "def print_pronic_numbers():\n",
    "    pronic_numbers = []\n",
    "    for i in range(1, 101):\n",
    "        if is_pronic(i):\n",
    "            pronic_numbers.append(i)\n",
    "    return pronic_numbers\n",
    "\n",
    "print(\"Pronic numbers between 1 and 100:\")\n",
    "pronic_numbers = print_pronic_numbers()\n",
    "print(pronic_numbers)"
   ]
  },
  {
   "cell_type": "code",
   "execution_count": null,
   "id": "99cb01a4",
   "metadata": {},
   "outputs": [],
   "source": []
  },
  {
   "cell_type": "code",
   "execution_count": null,
   "id": "219f2014",
   "metadata": {},
   "outputs": [],
   "source": []
  },
  {
   "cell_type": "code",
   "execution_count": null,
   "id": "7ad6e8c1",
   "metadata": {},
   "outputs": [],
   "source": []
  },
  {
   "cell_type": "code",
   "execution_count": null,
   "id": "7a6aac47",
   "metadata": {},
   "outputs": [],
   "source": []
  },
  {
   "cell_type": "code",
   "execution_count": null,
   "id": "42b37d71",
   "metadata": {},
   "outputs": [],
   "source": []
  }
 ],
 "metadata": {
  "kernelspec": {
   "display_name": "Python 3 (ipykernel)",
   "language": "python",
   "name": "python3"
  },
  "language_info": {
   "codemirror_mode": {
    "name": "ipython",
    "version": 3
   },
   "file_extension": ".py",
   "mimetype": "text/x-python",
   "name": "python",
   "nbconvert_exporter": "python",
   "pygments_lexer": "ipython3",
   "version": "3.10.9"
  }
 },
 "nbformat": 4,
 "nbformat_minor": 5
}

{
 "cells": [
  {
   "cell_type": "code",
   "execution_count": 1,
   "id": "d8bfa198",
   "metadata": {},
   "outputs": [],
   "source": [
    "def fibonacci(n):\n",
    "    if n <= 1:\n",
    "        return n\n",
    "    else:\n",
    "        return fibonacci(n-1) + fibonacci(n-2)\n",
    "def display_fibonacci_sequence(count):\n",
    "    if count <= 0:\n",
    "        print(\"Please enter a positive integer.\")\n",
    "    else:\n",
    "        print(\"Fibonacci sequence:\")\n",
    "        for i in range(count):\n",
    "            print(fibonacci(i), end=\" \")\n",
    "def main():\n",
    "    try:\n",
    "        count = int(input(\"Enter the number of terms in Fibonacci sequence: \"))\n",
    "        display_fibonacci_sequence(count)\n",
    "    except ValueError:\n",
    "        print(\"Please enter a valid integer.\")"
   ]
  },
  {
   "cell_type": "code",
   "execution_count": 2,
   "id": "0d3036f7",
   "metadata": {},
   "outputs": [
    {
     "name": "stdout",
     "output_type": "stream",
     "text": [
      "Fibonacci sequence:\n",
      "0 1 1 2 3 5 8 13 21 34 55 89 144 233 377 610 987 1597 2584 4181 "
     ]
    }
   ],
   "source": [
    "display_fibonacci_sequence(20)"
   ]
  },
  {
   "cell_type": "code",
   "execution_count": 3,
   "id": "62d5538f",
   "metadata": {},
   "outputs": [],
   "source": [
    "def factorial(n):\n",
    "    if n == 0:\n",
    "        return 1\n",
    "    else:\n",
    "        return n * factorial(n - 1)\n",
    "\n",
    "def main():\n",
    "    try:\n",
    "        num = int(input(\"Enter a non-negative integer: \"))\n",
    "        if num < 0:\n",
    "            print(\"Factorial is not defined for negative numbers.\")\n",
    "        else:\n",
    "            result = factorial(num)\n",
    "            print(\"Factorial of\", num, \"is:\", result)\n",
    "    except ValueError:\n",
    "        print(\"Please enter a valid integer.\")"
   ]
  },
  {
   "cell_type": "code",
   "execution_count": 5,
   "id": "1b631786",
   "metadata": {},
   "outputs": [
    {
     "data": {
      "text/plain": [
       "120"
      ]
     },
     "execution_count": 5,
     "metadata": {},
     "output_type": "execute_result"
    }
   ],
   "source": [
    "factorial(5)"
   ]
  },
  {
   "cell_type": "code",
   "execution_count": 6,
   "id": "753f029d",
   "metadata": {},
   "outputs": [],
   "source": [
    "def calculate_bmi(weight, height):\n",
    "    return weight / (height ** 2)\n",
    "\n",
    "def main():\n",
    "    try:\n",
    "        weight = float(input(\"Enter your weight in kilograms: \"))\n",
    "        height = float(input(\"Enter your height in meters: \"))\n",
    "\n",
    "        if weight <= 0 or height <= 0:\n",
    "            print(\"Please enter valid positive values for weight and height.\")\n",
    "        else:\n",
    "            bmi = calculate_bmi(weight, height)\n",
    "            print(\"Your BMI is:\", bmi)\n",
    "    except ValueError:\n",
    "        print(\"Please enter valid numerical values for weight and height.\")"
   ]
  },
  {
   "cell_type": "code",
   "execution_count": 8,
   "id": "8640b4b3",
   "metadata": {},
   "outputs": [
    {
     "data": {
      "text/plain": [
       "0.005555555555555556"
      ]
     },
     "execution_count": 8,
     "metadata": {},
     "output_type": "execute_result"
    }
   ],
   "source": [
    "calculate_bmi(20,60)"
   ]
  },
  {
   "cell_type": "code",
   "execution_count": 9,
   "id": "8e101440",
   "metadata": {},
   "outputs": [],
   "source": [
    "import math\n",
    "def calculate_natural_logarithm(number):\n",
    "    return math.log(number)\n",
    "def main():\n",
    "    try:\n",
    "        number = float(input(\"Enter a number: \"))\n",
    "        \n",
    "        if number <= 0:\n",
    "            print(\"Natural logarithm is not defined for non-positive numbers.\")\n",
    "        else:\n",
    "            result = calculate_natural_logarithm(number)\n",
    "            print(\"Natural logarithm of\", number, \"is:\", result)\n",
    "    except ValueError:\n",
    "        print(\"Please enter a valid numerical value.\")"
   ]
  },
  {
   "cell_type": "code",
   "execution_count": 10,
   "id": "0dfed1fd",
   "metadata": {},
   "outputs": [
    {
     "data": {
      "text/plain": [
       "1.6094379124341003"
      ]
     },
     "execution_count": 10,
     "metadata": {},
     "output_type": "execute_result"
    }
   ],
   "source": [
    "calculate_natural_logarithm(5)"
   ]
  },
  {
   "cell_type": "code",
   "execution_count": 11,
   "id": "2f250ce6",
   "metadata": {},
   "outputs": [],
   "source": [
    "def cube_sum_of_natural_numbers(n):\n",
    "    return sum(i**3 for i in range(1, n+1))\n",
    "def main():\n",
    "    try:\n",
    "        n = int(input(\"Enter the value of n: \"))\n",
    "        \n",
    "        if n <= 0:\n",
    "            print(\"Please enter a positive integer.\")\n",
    "        else:\n",
    "            result = cube_sum_of_natural_numbers(n)\n",
    "            print(\"Cube sum of the first\", n, \"natural numbers is:\", result)\n",
    "    except ValueError:\n",
    "        print(\"Please enter a valid integer.\")"
   ]
  },
  {
   "cell_type": "code",
   "execution_count": 12,
   "id": "981344c2",
   "metadata": {},
   "outputs": [
    {
     "data": {
      "text/plain": [
       "225"
      ]
     },
     "execution_count": 12,
     "metadata": {},
     "output_type": "execute_result"
    }
   ],
   "source": [
    "cube_sum_of_natural_numbers(5)"
   ]
  },
  {
   "cell_type": "code",
   "execution_count": null,
   "id": "8b66e678",
   "metadata": {},
   "outputs": [],
   "source": []
  }
 ],
 "metadata": {
  "kernelspec": {
   "display_name": "Python 3 (ipykernel)",
   "language": "python",
   "name": "python3"
  },
  "language_info": {
   "codemirror_mode": {
    "name": "ipython",
    "version": 3
   },
   "file_extension": ".py",
   "mimetype": "text/x-python",
   "name": "python",
   "nbconvert_exporter": "python",
   "pygments_lexer": "ipython3",
   "version": "3.10.9"
  }
 },
 "nbformat": 4,
 "nbformat_minor": 5
}

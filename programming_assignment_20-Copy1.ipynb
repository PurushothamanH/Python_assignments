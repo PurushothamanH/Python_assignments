{
 "cells": [
  {
   "cell_type": "code",
   "execution_count": 10,
   "id": "2739e5bb",
   "metadata": {},
   "outputs": [
    {
     "data": {
      "text/plain": [
       "[1, 2]"
      ]
     },
     "execution_count": 10,
     "metadata": {},
     "output_type": "execute_result"
    }
   ],
   "source": [
    "def filter_list(l):  \n",
    "    output = []\n",
    "    for i in l:  \n",
    "        if type(i) != str:  \n",
    "            output.append(i)  \n",
    "    return output\n",
    "filter_list([1,2,'a','b'])"
   ]
  },
  {
   "cell_type": "code",
   "execution_count": 11,
   "id": "0887f5eb",
   "metadata": {},
   "outputs": [
    {
     "name": "stdout",
     "output_type": "stream",
     "text": [
      "2\n",
      "4\n",
      "6\n",
      "8\n",
      "10\n",
      "12\n"
     ]
    }
   ],
   "source": [
    "lis =[2,3,4,5,6,7]\n",
    "for key,value in enumerate(lis):\n",
    "    print(key+value)"
   ]
  },
  {
   "cell_type": "code",
   "execution_count": 12,
   "id": "259b3cec",
   "metadata": {},
   "outputs": [
    {
     "data": {
      "text/plain": [
       "104.66666666666666"
      ]
     },
     "execution_count": 12,
     "metadata": {},
     "output_type": "execute_result"
    }
   ],
   "source": [
    "def vol_cone(height,radius):\n",
    "    volume = 3.14*radius*radius*(height/3)\n",
    "    return volume\n",
    "vol_cone(4,5)"
   ]
  },
  {
   "cell_type": "code",
   "execution_count": 13,
   "id": "44eb79f8",
   "metadata": {},
   "outputs": [
    {
     "name": "stdout",
     "output_type": "stream",
     "text": [
      "10\n"
     ]
    }
   ],
   "source": [
    "def missing_num(lst):\n",
    "    for n in range(1,11):\n",
    "        if n not in lst:\n",
    "            print(n)\n",
    "lst =[1,2,3,4,5,6,7,8,9]\n",
    "missing_num(lst)"
   ]
  },
  {
   "cell_type": "code",
   "execution_count": 14,
   "id": "4a71d527",
   "metadata": {},
   "outputs": [
    {
     "name": "stdout",
     "output_type": "stream",
     "text": [
      "6\n",
      "total no of dots are 21\n"
     ]
    }
   ],
   "source": [
    "total = 0\n",
    "n = int(input())\n",
    "for i in range(1,(n+1)):\n",
    "    total = total +i\n",
    "print(f'total no of dots are {total}')"
   ]
  },
  {
   "cell_type": "code",
   "execution_count": null,
   "id": "d37e11ed",
   "metadata": {},
   "outputs": [],
   "source": []
  },
  {
   "cell_type": "code",
   "execution_count": null,
   "id": "8fde9708",
   "metadata": {},
   "outputs": [],
   "source": []
  }
 ],
 "metadata": {
  "kernelspec": {
   "display_name": "Python 3 (ipykernel)",
   "language": "python",
   "name": "python3"
  },
  "language_info": {
   "codemirror_mode": {
    "name": "ipython",
    "version": 3
   },
   "file_extension": ".py",
   "mimetype": "text/x-python",
   "name": "python",
   "nbconvert_exporter": "python",
   "pygments_lexer": "ipython3",
   "version": "3.10.5"
  }
 },
 "nbformat": 4,
 "nbformat_minor": 5
}

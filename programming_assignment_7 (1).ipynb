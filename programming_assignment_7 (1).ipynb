{
 "cells": [
  {
   "cell_type": "code",
   "execution_count": null,
   "id": "f0f92243",
   "metadata": {},
   "outputs": [],
   "source": [
    "def array_sum(arr):\n",
    "    return sum(arr)\n",
    "\n",
    "def main():\n",
    "    try:\n",
    "        elements = input(\"Enter array elements separated by space: \").split()\n",
    "        arr = [int(element) for element in elements]\n",
    "        result = array_sum(arr)\n",
    "        print(\"Sum of array elements:\", result)\n",
    "    except ValueError:\n",
    "        print(\"Please enter valid integers separated by space.\")\n",
    "\n",
    "if __name__ == \"__main__\":\n",
    "    main()"
   ]
  },
  {
   "cell_type": "code",
   "execution_count": null,
   "id": "8c8e2d89",
   "metadata": {},
   "outputs": [],
   "source": [
    "def find_largest_element(arr):\n",
    "    if not arr:\n",
    "        return None  # Return None if the array is empty\n",
    "    else:\n",
    "        return max(arr)\n",
    "\n",
    "def main():\n",
    "    try:\n",
    "        elements = input(\"Enter array elements separated by space: \").split()\n",
    "        arr = [int(element) for element in elements]\n",
    "        largest = find_largest_element(arr)\n",
    "        \n",
    "        if largest is not None:\n",
    "            print(\"Largest element in the array:\", largest)\n",
    "        else:\n",
    "            print(\"The array is empty.\")\n",
    "    except ValueError:\n",
    "        print(\"Please enter valid integers separated by space.\")\n",
    "if __name__ == \"__main__\":\n",
    "    main()"
   ]
  },
  {
   "cell_type": "code",
   "execution_count": null,
   "id": "e301d095",
   "metadata": {},
   "outputs": [],
   "source": [
    "def rotate_array(arr, k):\n",
    "    \"\"\"\n",
    "    Function to rotate the array 'arr' to the right by 'k' steps.\n",
    "    \"\"\"\n",
    "    n = len(arr)\n",
    "    k = k % n\n",
    "    rotated_array = arr[-k:] + arr[:-k]\n",
    "    return rotated_array\n",
    "\n",
    "def main():\n",
    "    try:\n",
    "        elements = input(\"Enter array elements separated by space: \").split()\n",
    "        arr = [int(element) for element in elements]\n",
    "        k = int(input(\"Enter the number of steps to rotate: \"))\n",
    "        rotated_arr = rotate_array(arr, k)\n",
    "        print(\"Rotated array:\", rotated_arr)\n",
    "    except ValueError:\n",
    "        print(\"Please enter valid integers separated by space.\")\n",
    "if __name__ == \"__main__\":\n",
    "    main()"
   ]
  },
  {
   "cell_type": "code",
   "execution_count": null,
   "id": "d527a519",
   "metadata": {},
   "outputs": [],
   "source": [
    "def split_and_add(arr, k):\n",
    "    if k < 0 or k >= len(arr):\n",
    "        return \"Invalid index for splitting.\"\n",
    "    else:\n",
    "        return arr[k:] + arr[:k]\n",
    "\n",
    "def main():\n",
    "    try:\n",
    "        elements = input(\"Enter array elements separated by space: \").split()\n",
    "        arr = [int(element) for element in elements]\n",
    "        k = int(input(\"Enter the index to split the array: \"))\n",
    "        result = split_and_add(arr, k)\n",
    "        print(\"Modified array:\", result)\n",
    "    except ValueError:\n",
    "        print(\"Please enter valid integers separated by space.\")\n",
    "\n",
    "if __name__ == \"__main__\":\n",
    "    main()"
   ]
  },
  {
   "cell_type": "code",
   "execution_count": null,
   "id": "e9b47dbd",
   "metadata": {},
   "outputs": [],
   "source": [
    "def is_monotonic(arr):\n",
    "    increasing = decreasing = True\n",
    "    \n",
    "    for i in range(1, len(arr)):\n",
    "        if arr[i] > arr[i - 1]:\n",
    "            decreasing = False\n",
    "        elif arr[i] < arr[i - 1]:\n",
    "            increasing = False\n",
    "    \n",
    "    return increasing or decreasing\n",
    "\n",
    "def main():\n",
    "    try:\n",
    "        elements = input(\"Enter array elements separated by space: \").split()\n",
    "        arr = [int(element) for element in elements]\n",
    "        if is_monotonic(arr):\n",
    "            print(\"The given array is monotonic.\")\n",
    "        else:\n",
    "            print(\"The given array is not monotonic.\")\n",
    "    except ValueError:\n",
    "        print(\"Please enter valid integers separated by space.\")\n",
    "\n",
    "if __name__ == \"__main__\":\n",
    "    main()"
   ]
  },
  {
   "cell_type": "code",
   "execution_count": null,
   "id": "080e874b",
   "metadata": {},
   "outputs": [],
   "source": []
  },
  {
   "cell_type": "code",
   "execution_count": null,
   "id": "9c42a269",
   "metadata": {},
   "outputs": [],
   "source": []
  },
  {
   "cell_type": "code",
   "execution_count": null,
   "id": "6d8a6692",
   "metadata": {},
   "outputs": [],
   "source": []
  },
  {
   "cell_type": "code",
   "execution_count": null,
   "id": "25e75a21",
   "metadata": {},
   "outputs": [],
   "source": []
  },
  {
   "cell_type": "code",
   "execution_count": null,
   "id": "a8811661",
   "metadata": {},
   "outputs": [],
   "source": []
  },
  {
   "cell_type": "code",
   "execution_count": null,
   "id": "a185be47",
   "metadata": {},
   "outputs": [],
   "source": []
  }
 ],
 "metadata": {
  "kernelspec": {
   "display_name": "Python 3 (ipykernel)",
   "language": "python",
   "name": "python3"
  },
  "language_info": {
   "codemirror_mode": {
    "name": "ipython",
    "version": 3
   },
   "file_extension": ".py",
   "mimetype": "text/x-python",
   "name": "python",
   "nbconvert_exporter": "python",
   "pygments_lexer": "ipython3",
   "version": "3.10.9"
  }
 },
 "nbformat": 4,
 "nbformat_minor": 5
}

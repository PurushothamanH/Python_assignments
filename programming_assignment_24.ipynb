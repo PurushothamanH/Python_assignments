{
 "cells": [
  {
   "cell_type": "code",
   "execution_count": null,
   "id": "acdb5cd7",
   "metadata": {},
   "outputs": [],
   "source": [
    "def amplify(num):\n",
    "    return [i*10 if i % 4 == 0 else i for i in range(1, num+1)]\n",
    "print(amplify(4))\n",
    "print(amplify(3))\n",
    "print(amplify(25))"
   ]
  },
  {
   "cell_type": "code",
   "execution_count": null,
   "id": "715757f6",
   "metadata": {},
   "outputs": [],
   "source": [
    "def unique(numbers):\n",
    "    for num in numbers:\n",
    "        if numbers.count(num) == 1:\n",
    "print(unique([3, 3, 3, 7, 3, 3]))\n",
    "print(unique([0, 0, 0.77, 0, 0]))  \n",
    "print(unique([0, 1, 1, 1, 1, 1, 1, 1])) "
   ]
  },
  {
   "cell_type": "code",
   "execution_count": null,
   "id": "563409ad",
   "metadata": {},
   "outputs": [],
   "source": [
    "import math\n",
    "\n",
    "class Circle:\n",
    "    def __init__(self, radius):\n",
    "        self.radius = radius\n",
    "\n",
    "    def getArea(self):\n",
    "        return math.ceil(math.pi * self.radius**2)\n",
    "\n",
    "    def getPerimeter(self):\n",
    "        return math.ceil(2 * math.pi * self.radius)\n",
    "circy = Circle(11)\n",
    "print(circy.getArea())  \n",
    "circy = Circle(4.44)\n",
    "print(circy.getPerimeter())  "
   ]
  },
  {
   "cell_type": "code",
   "execution_count": null,
   "id": "abfdc6c6",
   "metadata": {},
   "outputs": [],
   "source": [
    "def sort_by_length(strings):\n",
    "    return sorted(strings, key=len)\n",
    "print(sort_by_length([\"Google\", \"Apple\", \"Microsoft\"])) \n",
    "print(sort_by_length([\"Leonardo\", \"Michelangelo\", \"Raphael\", \"Donatello\"]))\n",
    "print(sort_by_length([\"Turing\", \"Einstein\", \"Jung\"]))  "
   ]
  },
  {
   "cell_type": "code",
   "execution_count": null,
   "id": "9f66a149",
   "metadata": {},
   "outputs": [],
   "source": [
    "def is_triplet(a, b, c):\n",
    "    numbers = [a, b, c]\n",
    "    numbers.sort()\n",
    "    return numbers[0]**2 + numbers[1]**2 == numbers[2]**2\n",
    "print(is_triplet(3, 4, 5))  \n",
    "print(is_triplet(13, 5, 12)) \n",
    "print(is_triplet(1, 2, 3))  "
   ]
  },
  {
   "cell_type": "code",
   "execution_count": null,
   "id": "6587579e",
   "metadata": {},
   "outputs": [],
   "source": []
  },
  {
   "cell_type": "code",
   "execution_count": null,
   "id": "1a5df2df",
   "metadata": {},
   "outputs": [],
   "source": []
  },
  {
   "cell_type": "code",
   "execution_count": null,
   "id": "03bf36b1",
   "metadata": {},
   "outputs": [],
   "source": []
  },
  {
   "cell_type": "code",
   "execution_count": null,
   "id": "e8f1a3d9",
   "metadata": {},
   "outputs": [],
   "source": []
  },
  {
   "cell_type": "code",
   "execution_count": null,
   "id": "491824e0",
   "metadata": {},
   "outputs": [],
   "source": []
  },
  {
   "cell_type": "code",
   "execution_count": null,
   "id": "af7f6c62",
   "metadata": {},
   "outputs": [],
   "source": []
  }
 ],
 "metadata": {
  "kernelspec": {
   "display_name": "Python 3 (ipykernel)",
   "language": "python",
   "name": "python3"
  },
  "language_info": {
   "codemirror_mode": {
    "name": "ipython",
    "version": 3
   },
   "file_extension": ".py",
   "mimetype": "text/x-python",
   "name": "python",
   "nbconvert_exporter": "python",
   "pygments_lexer": "ipython3",
   "version": "3.10.9"
  }
 },
 "nbformat": 4,
 "nbformat_minor": 5
}
